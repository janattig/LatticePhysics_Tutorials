{
 "cells": [
  {
   "cell_type": "markdown",
   "metadata": {},
   "source": [
    "# Introduction\n",
    "\n",
    "In this very first tutorial, we will investigate the general workflow of `LatticePhysics.jl` and provide starting grounds for more into-depths tutorials of various aspects. The tutorial is organized as a sequence of workflow steps that are usually part of working with lattice-based calculations. They are explained in small interludes but should be executed one-by-one.\n",
    "\n",
    "\n",
    "\n",
    "### Loading modules\n",
    "\n",
    "Before any computation can take place, one has to load all modules that contain the definition of types and functions of `LatticePhysics.jl`. These are the main module `LatticePhysics.jl` as well as (in our example) `LatPhysPlottingPyPlot.jl` for plotting of lattices. Furthermore, `PyPlot.jl` is loaded as well to allow direct access to all plotting functions."
   ]
  },
  {
   "cell_type": "code",
   "execution_count": null,
   "metadata": {},
   "outputs": [],
   "source": [
    "using PyPlot\n",
    "using LatticePhysics\n",
    "using LatPhysPlottingPyPlot"
   ]
  },
  {
   "cell_type": "markdown",
   "metadata": {},
   "source": [
    "### 1 - Getting a unitcell\n",
    "\n",
    "To start things, we obtain a `Unitcell` object. This can be done in multiple ways, but the easiest is to get a pre-implemented unitcell of some sort.\n",
    "\n",
    "(Note: you are able to re-execute the whole tutorial upon changing the unitcell here)"
   ]
  },
  {
   "cell_type": "code",
   "execution_count": null,
   "metadata": {},
   "outputs": [],
   "source": [
    "uc = getUnitcellHoneycomb()"
   ]
  },
  {
   "cell_type": "markdown",
   "metadata": {},
   "source": [
    "### 2 - Creating a lattice\n",
    "\n",
    "The next step is to build up a whole lattice from the unitcell object. Building a finite lattice can be achieved by many different functions, the easiest being a periodic arrangement of unitcells chosen in the following.\n",
    "\n",
    "(Note: you are able to re-execute the whole tutorial upon changing the lattice building routine here) "
   ]
  },
  {
   "cell_type": "code",
   "execution_count": null,
   "metadata": {},
   "outputs": [],
   "source": [
    "lt = getLatticePeriodic(uc, 5)"
   ]
  },
  {
   "cell_type": "markdown",
   "metadata": {},
   "source": [
    "### 3 - Plotting the lattice\n",
    "\n",
    "Finally, one usually wants to use the lattice object created in the last step. In our application, this usage would be to plot it into a nice image. For this purpose we are simply calling the plotting routine from `LatPhysPlottingPyPlot.jl`."
   ]
  },
  {
   "cell_type": "code",
   "execution_count": null,
   "metadata": {},
   "outputs": [],
   "source": [
    "plotLattice(lt);"
   ]
  },
  {
   "cell_type": "markdown",
   "metadata": {},
   "source": [
    "### Extendability\n",
    "\n",
    "The process shown above can be customized in many different ways. Generally speaking, one can modify any of the three following steps:\n",
    "1. Unitcell construction\n",
    "2. Lattice construction\n",
    "3. Lattice / Unitcell usage\n"
   ]
  }
 ],
 "metadata": {
  "@webio": {
   "lastCommId": null,
   "lastKernelId": null
  },
  "kernelspec": {
   "display_name": "Julia 1.0.0",
   "language": "julia",
   "name": "julia-1.0"
  },
  "language_info": {
   "file_extension": ".jl",
   "mimetype": "application/julia",
   "name": "julia",
   "version": "1.0.0"
  }
 },
 "nbformat": 4,
 "nbformat_minor": 2
}
