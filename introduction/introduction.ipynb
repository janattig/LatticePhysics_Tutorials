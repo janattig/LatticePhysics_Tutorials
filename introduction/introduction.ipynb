{
 "cells": [
  {
   "cell_type": "markdown",
   "metadata": {},
   "source": [
    "# Introduction\n",
    "\n",
    "In this very first tutorial, we will investigate the general workflow of `LatticePhysics.jl` and provide starting grounds for more into-depths tutorials of various aspects. The tutorial is organized as a sequence of workflow steps that are usually part of working with lattice-based calculations. They are explained in small interludes but should be executed one-by-one.\n",
    "\n",
    "\n",
    "\n",
    "### 1 - Loading modules\n",
    "\n",
    "Before any computation can take place, one has to load all modules that contain the definition of types and functions of `LatticePhysics.jl`. These are the main module `LatticePhysics.jl` as well as (in our example) `LatPhysPlottingPyPlot.jl` for plotting of lattices. Furthermore, `PyPlot.jl` is loaded as well to allow direct access to all plotting functions."
   ]
  },
  {
   "cell_type": "code",
   "execution_count": 1,
   "metadata": {},
   "outputs": [],
   "source": [
    "using PyPlot\n",
    "using LatticePhysics\n",
    "using LatPhysPlottingPyPlot"
   ]
  },
  {
   "cell_type": "markdown",
   "metadata": {},
   "source": [
    "### 2 - Getting a unitcell\n",
    "\n",
    "To start things, we obtain a `Unitcell` object. This can be done in multiple ways, but the easiest is to get a pre-implemented unitcell of some sort (Note: you are able to re-execute the whole tutorial upon changing the unitcell here)"
   ]
  },
  {
   "cell_type": "code",
   "execution_count": 2,
   "metadata": {},
   "outputs": [
    {
     "data": {
      "text/plain": [
       "Unitcell object\n",
       "--> type Unitcell{Site{Int64,2},Bond{Int64,2}}\n",
       "--> 2 sites of type Site{Int64,2}\n",
       "--> 6 bonds of type Bond{Int64,2}"
      ]
     },
     "execution_count": 2,
     "metadata": {},
     "output_type": "execute_result"
    }
   ],
   "source": [
    "uc = getUnitcellHoneycomb()"
   ]
  },
  {
   "cell_type": "markdown",
   "metadata": {},
   "source": [
    "### 3 - Creating a lattice"
   ]
  },
  {
   "cell_type": "code",
   "execution_count": null,
   "metadata": {},
   "outputs": [],
   "source": []
  },
  {
   "cell_type": "markdown",
   "metadata": {},
   "source": [
    "### 4 - Plotting the lattice"
   ]
  },
  {
   "cell_type": "code",
   "execution_count": null,
   "metadata": {},
   "outputs": [],
   "source": []
  }
 ],
 "metadata": {
  "@webio": {
   "lastCommId": "152055342fa74b03a1a37df3964d042d",
   "lastKernelId": "3e56d15a-f3ad-4633-814a-979cfaaccd3b"
  },
  "kernelspec": {
   "display_name": "Julia 1.0.0",
   "language": "julia",
   "name": "julia-1.0"
  },
  "language_info": {
   "file_extension": ".jl",
   "mimetype": "application/julia",
   "name": "julia",
   "version": "1.0.0"
  }
 },
 "nbformat": 4,
 "nbformat_minor": 2
}
