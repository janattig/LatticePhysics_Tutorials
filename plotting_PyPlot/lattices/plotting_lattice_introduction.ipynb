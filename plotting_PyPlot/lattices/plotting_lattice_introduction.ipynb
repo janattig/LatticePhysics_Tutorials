{
 "cells": [
  {
   "cell_type": "markdown",
   "metadata": {},
   "source": [
    "# Plotting lattices in PyPlot\n",
    "\n",
    "One of the great benefits of `LatticePhysics.jl` is the ability to plot the same lattice object that is used in calculations as well, therefore being able to detect bugs in the lattice definition visually instead of relying on carefully checking numbers and signs.\n",
    "\n",
    "To plot lattices, various backends can be used. The following tutorial discusses the syntax for the backend building on `matplotlib` and `PyPlot`. To work through this tutorial, a working knowledge of both can be helpful although it is not required.\n",
    "\n",
    "This notebook aims to be an introduction to the plotting with `PyPlot`. Therefore, more involved tutorials will cover all details and optional keyword arguments, s.t. this sheet can provide a broad overview without spending too much time on details.\n",
    "\n",
    "To get started, import the following libraries:"
   ]
  },
  {
   "cell_type": "code",
   "execution_count": null,
   "metadata": {},
   "outputs": [],
   "source": [
    "using LatticePhysics\n",
    "using LatPhysPlottingPyPlot\n",
    "using PyPlot  # not needed, but allows for explicit PyPlot syntax\n",
    "pygui(true);  # PyPlot command that enables plotting in external window"
   ]
  },
  {
   "cell_type": "markdown",
   "metadata": {},
   "source": [
    "### Plotting any lattice for itself\n",
    "\n",
    "If one simply wants to see the lattice by itself without further stuff, one can use the `plotLattice` function. This function works for both 2d and 3d lattices and not only adjusts a lot of parameters besides plotting the lattice but also creates a new figure by default."
   ]
  },
  {
   "cell_type": "code",
   "execution_count": null,
   "metadata": {},
   "outputs": [],
   "source": [
    "uc = getUnitcellHoneycomb()\n",
    "lt = getLatticePeriodic(uc, 10)\n",
    "plotLattice(lt);"
   ]
  },
  {
   "cell_type": "code",
   "execution_count": null,
   "metadata": {},
   "outputs": [],
   "source": [
    "uc = getUnitcellFCC()\n",
    "lt = getLatticePeriodic(uc, 3)\n",
    "plotLattice(lt);"
   ]
  },
  {
   "cell_type": "markdown",
   "metadata": {},
   "source": [
    "### Using the overwritten `plot` function\n",
    "\n",
    "For cases, in which the lattice should be plotted into the same plot together with other things, one can use the overwritten `plot` function for lattice objects (subtypes of `AbstractLattice`). This will not alter the current figure but just add the lattice to it."
   ]
  },
  {
   "cell_type": "code",
   "execution_count": null,
   "metadata": {},
   "outputs": [],
   "source": [
    "uc = getUnitcellHoneycomb()\n",
    "lt = getLatticePeriodic(uc, 10)\n",
    "plot(lt);"
   ]
  },
  {
   "cell_type": "code",
   "execution_count": null,
   "metadata": {},
   "outputs": [],
   "source": [
    "uc = getUnitcellFCC()\n",
    "lt = getLatticePeriodic(uc, 3)\n",
    "plot(lt);"
   ]
  },
  {
   "cell_type": "markdown",
   "metadata": {},
   "source": [
    "### Keyword arguments\n",
    "\n",
    "To specify more plotting layout, one can use keyword arguments besides the lattice in both the `plot` as well as the `plotLattice` functions. There are many keyword arguments (for a complete list see the in depth tutorials) but here are some exammples:"
   ]
  },
  {
   "cell_type": "code",
   "execution_count": null,
   "metadata": {},
   "outputs": [],
   "source": [
    "uc = getUnitcellHoneycomb()\n",
    "lt = getLatticePeriodic(uc, 10)\n",
    "\n",
    "plotLattice(\n",
    "    lt;\n",
    "    figsize=(10,6),\n",
    "    site_labels=false\n",
    "    );"
   ]
  },
  {
   "cell_type": "code",
   "execution_count": null,
   "metadata": {},
   "outputs": [],
   "source": [
    "uc = getUnitcellPyrochlore(2)\n",
    "lt = getLatticePeriodic(uc, 1)\n",
    "\n",
    "plotLattice(\n",
    "    lt;\n",
    "    figsize=(6,6),\n",
    "    site_labels=false\n",
    "    );"
   ]
  }
 ],
 "metadata": {
  "@webio": {
   "lastCommId": "fe4281306d6841be9f7e839e80faf235",
   "lastKernelId": "c1c4ec82-c0c9-4e4b-8391-a5b6e3b8ec4e"
  },
  "kernelspec": {
   "display_name": "Julia 1.0.0",
   "language": "julia",
   "name": "julia-1.0"
  },
  "language_info": {
   "file_extension": ".jl",
   "mimetype": "application/julia",
   "name": "julia",
   "version": "1.0.0"
  }
 },
 "nbformat": 4,
 "nbformat_minor": 2
}
