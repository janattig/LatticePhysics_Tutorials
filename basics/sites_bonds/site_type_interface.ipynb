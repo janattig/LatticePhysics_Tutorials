{
 "cells": [
  {
   "cell_type": "markdown",
   "metadata": {},
   "source": [
    "# Type structure and interface of site objects\n",
    "\n",
    "One of the most defining features of lattice is the periodic arrangement of **sites**. A site therefore has its own type in `LatticePhysics.jl`, equipped with an abstract supertype as well as a shared interface.\n",
    "\n",
    "The following tutorial aims on providing an overview over the type hierachy of sites, introducing the abstract type `AbstractSite`, as well as discussing the interface functions for this abstract type by showing examples for the concrete struct `Site`.\n"
   ]
  },
  {
   "cell_type": "code",
   "execution_count": null,
   "metadata": {},
   "outputs": [],
   "source": [
    "using LatPhysBase"
   ]
  },
  {
   "cell_type": "markdown",
   "metadata": {},
   "source": [
    "### Abstract type `AbstractSite{L,D}`\n",
    "\n",
    "The abstract type that is supertype to all site implementations is `AbstractSite`, parametric in two parameters `L` and `D`. These two parameters give the label type of the site, `L`, as well as the real space dimension of the site's location, `D`. These two parameters allow for multiple dispatch on different labels as well as different dimensions, as demonstrated in the following example"
   ]
  },
  {
   "cell_type": "code",
   "execution_count": null,
   "metadata": {},
   "outputs": [],
   "source": [
    "# this is a correct suptyping of site types\n",
    "AbstractSite{String,2} <: AbstractSite"
   ]
  },
  {
   "cell_type": "code",
   "execution_count": null,
   "metadata": {},
   "outputs": [],
   "source": [
    "# correct, since Float64 is subtype of Real\n",
    "AbstractSite{Float64,2} <: AbstractSite{L,2} where {L<:Real}"
   ]
  },
  {
   "cell_type": "code",
   "execution_count": null,
   "metadata": {},
   "outputs": [],
   "source": [
    "# not correct, since String is not subtype of Real\n",
    "AbstractSite{Float64,2} <: AbstractSite{L,2} where {L<:String}"
   ]
  },
  {
   "cell_type": "code",
   "execution_count": null,
   "metadata": {},
   "outputs": [],
   "source": [
    "# not correct, since dimensions don't agree\n",
    "AbstractSite{Float64,2} <: AbstractSite{L,3} where {L<:Real}"
   ]
  },
  {
   "cell_type": "markdown",
   "metadata": {},
   "source": [
    "### Concrete type `Site{L,D} <: AbstractSite{L,D}`\n",
    "\n",
    "For all explicit `Unitcell` and `Lattice` objects, a concrete type is needed. Although every user could in principle implement its own concrete type, a default implementation is provided within `LatticePhysics.jl`, the `mutable struct Site` implementation.\n",
    "\n",
    "`Site` should be regarded as a subtype of `AbstractSite` and can therefore be instatiated so it should be used whenever a concrete implementation is needed, i.e. whenever objects are created."
   ]
  },
  {
   "cell_type": "code",
   "execution_count": null,
   "metadata": {},
   "outputs": [],
   "source": [
    "Site{String,2} <: AbstractSite{String,2}"
   ]
  },
  {
   "cell_type": "markdown",
   "metadata": {},
   "source": [
    "### Interface of `AbstractSite` - how to access information correctly\n",
    "\n",
    "In order to gain a benefit from having an abstract supertype `AbstractSite`, one has to define a common interface that all concrete site types that are subtype of `AbstractSite` have to implement. Then one can simply call this interface for a given (but unknown) site object that is subtype of `AbstractSite` and rely on getting the correct results.\n",
    "\n",
    "The interface of `AbstractSite` contains various functions, which are explained in the following.\n",
    "\n",
    "\n",
    "##### 1. The constructor\n",
    "\n",
    "The constructor interface is used to create new objects of a specified type. It is therefore demanding to pass the type explicitly, as well as further information regarding the site. The constructor syntax is\n",
    "```\n",
    "function newSite(\n",
    "            :: Type{S},\n",
    "            point   :: Vector{<:Real},\n",
    "            label   :: L\n",
    "        ) :: S where {L,D,S<:AbstractSite{L,D}}\n",
    "```\n",
    "This interface is overwritten by the concrete site type `Site` to\n",
    "```\n",
    "function newSite(\n",
    "            :: Type{Site{L,D}},\n",
    "            point   :: Vector{<:Real},\n",
    "            label   :: L\n",
    "        ) :: Site{L,D} where {L,D}\n",
    "```\n",
    "\n",
    "\n",
    "Using this constructor in constructing a `Site{String,2}` site object could work as follows:"
   ]
  },
  {
   "cell_type": "code",
   "execution_count": null,
   "metadata": {},
   "outputs": [],
   "source": [
    "s = newSite( Site{String,2}, [0,0], \"mysite\" )"
   ]
  },
  {
   "cell_type": "markdown",
   "metadata": {},
   "source": [
    "In a practical application, the site type could be determined by e.g. the `Unitcell` type (which is parametric in the site type) and is only available by dispatch within the function. This way, the site type is never known explicitly in the code but upon execution, julia can compile a type stable function for the specific type.\n",
    "\n",
    "\n",
    "\n",
    "\n",
    "##### 2. Label and position setter and getter\n",
    "\n",
    "For a given site object, the most abundant operation will be to access the position or label information. This could be either a static lookup or an overwrite. The syntax of these operations only differs by a `!` to pronounce naming similarities.\n",
    "\n",
    "The label can be accessed with interface functions `label` and `label!` whereas the position can be accessed with interface functions `point` and `point!`, as seen in the examples below"
   ]
  },
  {
   "cell_type": "code",
   "execution_count": null,
   "metadata": {},
   "outputs": [],
   "source": [
    "# print the site label\n",
    "println(  label(s)  )\n",
    "\n",
    "# set the site label to a new label\n",
    "label!(s, \"newlabel\")\n",
    "\n",
    "# print the site label again\n",
    "println(  label(s)  )"
   ]
  },
  {
   "cell_type": "code",
   "execution_count": null,
   "metadata": {},
   "outputs": [],
   "source": [
    "# print the site position\n",
    "println(  point(s)  )\n",
    "\n",
    "# set the site label to a new position\n",
    "point!(s, [1.0, -1.0])\n",
    "\n",
    "# print the site position again\n",
    "println(  point(s)  )"
   ]
  }
 ],
 "metadata": {
  "@webio": {
   "lastCommId": "f61e2a18b61f42cba4728d5e34fa4064",
   "lastKernelId": "72ef47e0-8b0e-43ee-a576-9f8a8373be91"
  },
  "kernelspec": {
   "display_name": "Julia 1.0.0",
   "language": "julia",
   "name": "julia-1.0"
  },
  "language_info": {
   "file_extension": ".jl",
   "mimetype": "application/julia",
   "name": "julia",
   "version": "1.0.0"
  }
 },
 "nbformat": 4,
 "nbformat_minor": 2
}
