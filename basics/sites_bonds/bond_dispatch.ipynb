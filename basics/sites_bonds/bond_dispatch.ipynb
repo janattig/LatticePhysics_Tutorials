{
 "cells": [
  {
   "cell_type": "markdown",
   "metadata": {},
   "source": [
    "# Dispatch for `AbstractBond` objects\n",
    "\n",
    "Since a lot of information about bond objects is already encoded into their type signature, this signature can be used in dispatch to greatly reduce the number of `if` statements as well as greatly improve the performance of your code.\n",
    "\n",
    "This tutorial aims at providing an overview how to use dispatch for `AbstractBond` objects as well as giving some examples."
   ]
  },
  {
   "cell_type": "code",
   "execution_count": null,
   "metadata": {},
   "outputs": [],
   "source": [
    "using LatPhysBase"
   ]
  },
  {
   "cell_type": "markdown",
   "metadata": {},
   "source": [
    "### Reminder: type structure for `AbstractBond`\n",
    "\n",
    "Bond objects are in general subtype of `AbstractBond{L,N}` where the parametric types `L` and `N` give the **label type** as well as the **Bravais lattice dimension** of the surrounding unitcell / lattice respectively.\n",
    "\n",
    "E.g. an object that is subtype of `AbstractBond{String,2}` would describe a bond with `String` labels in a Bravais lattice with 2 lattice vectors.\n",
    "\n",
    "\n",
    "\n",
    "### How to use dispatch in function headers\n",
    "\n",
    "If one wants to dispatch on a certain type signature, the first step is to include the types into the function header. One can do so by the following syntax:\n",
    "```\n",
    "function myfunction(b::B) where {B}\n",
    "    # do something\n",
    "end\n",
    "```\n",
    "In this way, function `myfunction` accepts any argument, since `B` is (implictly) subtype of `Any`.\n",
    "To specialise to `AbstractBond` objects, one can use\n",
    "```\n",
    "function myfunction(b::B) where {B<:AbstractBond}\n",
    "    # do something\n",
    "end\n",
    "```\n",
    "which would only allow `b` to be of a subtype of `AbstractBond`, i.e. to be a bond.\n",
    "Further specialization can be done by explicitly introducing the parametric types of `AbstractBond`.\n",
    "```\n",
    "function myfunction(b::B) where {L,N, B<:AbstractBond{L,N}}\n",
    "    # do something\n",
    "end\n",
    "```\n",
    "as these parametric types can be adjusted to the individual case as shown in the examples below.\n",
    "\n",
    "\n",
    "\n",
    "\n",
    "# Examples\n",
    "\n",
    "Let's discuss some applications in the following\n",
    "\n",
    "\n",
    "\n",
    "### Example 1 - Unitcell / Lattice offset\n",
    "\n",
    "In many cases, one is interested in the real space vector that is described by a certain bond object. For this, one not only needs the site coordinates of origin and destination site, but also the Bravais lattice vectors.\n",
    "\n",
    "Leaving aside the availability of this information for the bond object (it should be provided within a unitcell or lattice object), one could ask the simple question: Given some lattice vectors and a bond, can we calculate the pure unitcell / lattice offset (where site positions are not relevant yet)? In formulas, this would be $\\sum_{i=1}^N w_i \\vec{a}_i$ where $w_i$ describes an element of the wrap.\n",
    "\n",
    "Of course, we could write down this sum explicitly by looping over all lattice vectors etc., but we can also find explicit and faster syntax using dispatch."
   ]
  },
  {
   "cell_type": "code",
   "execution_count": null,
   "metadata": {},
   "outputs": [],
   "source": [
    "# N=0 case\n",
    "function offset(b::B, ai::Vector{<:Vector{<:Real}}) where {L,B<:AbstractBond{L,0}}\n",
    "     return zeros(3) # number is arbitrary here because we dont know which spatial dimension the sites have\n",
    "end\n",
    "\n",
    "# N=1 case\n",
    "function offset(b::B, ai::Vector{<:Vector{<:Real}}) where {L,B<:AbstractBond{L,1}}\n",
    "     return ai[1].*wrap(b)[1]\n",
    "end\n",
    "\n",
    "# N=2 case\n",
    "function offset(b::B, ai::Vector{<:Vector{<:Real}}) where {L,B<:AbstractBond{L,2}}\n",
    "     return ai[1].*wrap(b)[1] .+ ai[2].*wrap(b)[2]\n",
    "end\n",
    "\n",
    "# N=3 case\n",
    "function offset(b::B, ai::Vector{<:Vector{<:Real}}) where {L,B<:AbstractBond{L,3}}\n",
    "     return ai[1].*wrap(b)[1] .+ ai[2].*wrap(b)[2] .+ ai[3].*wrap(b)[3]\n",
    "end"
   ]
  },
  {
   "cell_type": "code",
   "execution_count": null,
   "metadata": {},
   "outputs": [],
   "source": [
    "# try out N=0\n",
    "b = newBond( Bond{String,0}, 24,123, \"mybond\", NTuple{0,Int64}())\n",
    "lv = Vector{Float64}[]\n",
    "println( offset(b, lv) )\n",
    "\n",
    "# try out N=1\n",
    "b = newBond( Bond{String,1}, 24,123, \"mybond\", (-2,))\n",
    "lv = Vector{Float64}[Float64[1,0,0]]\n",
    "println( offset(b, lv) )\n",
    "\n",
    "# try out N=2\n",
    "b = newBond( Bond{String,2}, 24,123, \"mybond\", (-2,1))\n",
    "lv = Vector{Float64}[Float64[1,0,0], Float64[0,1,0]]\n",
    "println( offset(b, lv) )\n",
    "\n",
    "# try out N=3\n",
    "b = newBond( Bond{String,3}, 24,123, \"mybond\", (-2,-1,0))\n",
    "lv = Vector{Float64}[Float64[1,0,0], Float64[0,1,0], Float64[0,-1,1]]\n",
    "println( offset(b, lv) )"
   ]
  },
  {
   "cell_type": "markdown",
   "metadata": {},
   "source": [
    "Note that a variation of the above example is implemented into the interface of `AbstractUnitcell` and `AbstractLattice` under the function name `vector` which needs a `AbstractBond` and an `AbstractUnitcell` or `AbstractLattice` object. See the unitcell or lattice type tutorial for more information.\n",
    "\n",
    "### Example 2 - Plotting (dispatch by label)\n",
    "\n",
    "Similar to how dispatch in plotting works for site objects (see [this](https://github.com/janattig/LatticePhysics_Tutorials/blob/master/basics/sites_bonds/site_dispatch.ipynb) tutorial), one can also dispatch on bond label s.t. different labels have different implications in plotting."
   ]
  }
 ],
 "metadata": {
  "@webio": {
   "lastCommId": "eb2f6fc6e9484c0c8c16edcda2de4969",
   "lastKernelId": "38aedc82-e6fa-4c37-b651-1a36c61a3494"
  },
  "kernelspec": {
   "display_name": "Julia 1.0.0",
   "language": "julia",
   "name": "julia-1.0"
  },
  "language_info": {
   "file_extension": ".jl",
   "mimetype": "application/julia",
   "name": "julia",
   "version": "1.0.0"
  }
 },
 "nbformat": 4,
 "nbformat_minor": 2
}
