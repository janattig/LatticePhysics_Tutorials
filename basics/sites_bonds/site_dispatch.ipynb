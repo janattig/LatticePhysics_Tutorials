{
 "cells": [
  {
   "cell_type": "markdown",
   "metadata": {},
   "source": [
    "# Dispatch for `AbstractSite` objects\n",
    "\n",
    "Since a lot of information about site objects is already encoded into their type signature, this signature can be used in dispatch to greatly reduce the number of `if` statements as well as greatly improve the performance of your code.\n",
    "\n",
    "This tutorial aims at providing an overview how to use dispatch for `AbstractSite` objects as well as giving some examples."
   ]
  },
  {
   "cell_type": "code",
   "execution_count": null,
   "metadata": {},
   "outputs": [],
   "source": [
    "using LatPhysBase"
   ]
  },
  {
   "cell_type": "markdown",
   "metadata": {},
   "source": [
    "### Reminder: type structure for `AbstractSite`\n",
    "\n",
    "Site objects are in general subtype of `AbstractSite{L,D}` where the parametric types `L` and `D` give the **label type** as well as the **spatial dimension** of the site location respectively.\n",
    "\n",
    "E.g. an object that is subtype of `AbstractSite{String,2}` would describe a site with `String` labels in d=2.\n",
    "\n",
    "\n",
    "\n",
    "### How to use dispatch in function headers\n",
    "\n",
    "If one wants to dispatch on a certain type signature, the first step is to include the types into the function header. One can do so by the following syntax:\n",
    "```\n",
    "function myfunction(s::S) where {S}\n",
    "    # do something\n",
    "end\n",
    "```\n",
    "In this way, function `myfunction` accepts any argument, since `S` is (implictly) subtype of `Any`.\n",
    "To specialise to `AbstractSite` objects, one can use\n",
    "```\n",
    "function myfunction(s::S) where {S<:AbstractSite}\n",
    "    # do something\n",
    "end\n",
    "```\n",
    "which would only allow `s` to be of a subtype of `AbstractSite`, i.e. to be a site.\n",
    "Further specialization can be done by explicitly introducing the parametric types of `AbstractSite`.\n",
    "```\n",
    "function myfunction(s::S) where {L,D, S<:AbstractSite{L,D}}\n",
    "    # do something\n",
    "end\n",
    "```\n",
    "as these parametric types can be adjusted to the individual case as shown in the examples below.\n",
    "\n",
    "\n",
    "\n",
    "\n",
    "# Examples\n",
    "\n",
    "Let's discuss some applications in the following\n",
    "\n",
    "\n",
    "### Example 1 - Plotting (Basics)\n",
    "\n",
    "Imagine the case in which you wanted to construct a plotting function that plots any given site object. However, depending on the spatial dimension of the site given, you have to call a different function of the plotting library (e.g. `scatter` vs. `scatter3D` in `PyPlot`). In this case, it is helpful to construct a plotting syntax that acceps any site and determines which function to call by dispatch.\n",
    "\n",
    "We start by implementing a _Fallback_ function that is used if no specialised dispatch signature is identified. Usually a fallback is only used if we encounter a case that is not expected, so we print an according message."
   ]
  },
  {
   "cell_type": "code",
   "execution_count": null,
   "metadata": {},
   "outputs": [],
   "source": [
    "# Fallback function\n",
    "function plotSite(s::S) where {S}\n",
    "    println(\"Fallback is used - unexpected type for plotting site: \", S)\n",
    "end"
   ]
  },
  {
   "cell_type": "markdown",
   "metadata": {},
   "source": [
    "Next, we implement the two functions that are implementing the plotting for d=2 and d=3. These functions only accept sites of that specific dimension."
   ]
  },
  {
   "cell_type": "code",
   "execution_count": null,
   "metadata": {},
   "outputs": [],
   "source": [
    "# plotting for d=2\n",
    "function plotSite(s::S) where {L,S<:AbstractSite{L,2}}\n",
    "    println(\"plotting in 2d is used. Making a 2d dot at \", point(s))\n",
    "end\n",
    "\n",
    "# plotting for d=3\n",
    "function plotSite(s::S) where {L,S<:AbstractSite{L,3}}\n",
    "    println(\"plotting in 3d is used. Making a 3d dot at \", point(s))\n",
    "end"
   ]
  },
  {
   "cell_type": "markdown",
   "metadata": {},
   "source": [
    "Last but not least we implement functions that give suitable error messages forsites with dimensions not captured by our two special functions d=2 and d=3. Note that explicitly requiring a site type here is crucial to override the Fallback function above."
   ]
  },
  {
   "cell_type": "code",
   "execution_count": null,
   "metadata": {},
   "outputs": [],
   "source": [
    "# plotting for any d --> dont know how it works\n",
    "function plotSite(s::S) where {L,D,S<:AbstractSite{L,D}}\n",
    "    println(\"don't know how plotting works in d=\",D)\n",
    "end"
   ]
  },
  {
   "cell_type": "markdown",
   "metadata": {},
   "source": [
    "Finally, let's test our example with some specific site objects."
   ]
  },
  {
   "cell_type": "code",
   "execution_count": null,
   "metadata": {},
   "outputs": [],
   "source": [
    "# test dispatch on dimension\n",
    "\n",
    "# d=1 --> plotting unknown\n",
    "site_1 = newSite(Site{String,1}, [0.0,], \"mysite\")\n",
    "plotSite(site_1)\n",
    "\n",
    "# d=2\n",
    "site_2 = newSite(Site{String,2}, [0.0, 0.0], \"mysite\")\n",
    "plotSite(site_2)\n",
    "\n",
    "# d=3\n",
    "site_3 = newSite(Site{String,3}, [0.0,0.0,0.0], \"mysite\")\n",
    "plotSite(site_3)\n",
    "\n",
    "# d=4 --> plotting unknown\n",
    "site_4 = newSite(Site{String,4}, [0.0,0.0,0.0,0.0], \"mysite\")\n",
    "plotSite(site_4)\n",
    "\n",
    "\n",
    "\n",
    "# test dispatch on a non-site type --> Fallback\n",
    "non_site = [1.0,0.0]\n",
    "plotSite(non_site)"
   ]
  },
  {
   "cell_type": "markdown",
   "metadata": {},
   "source": [
    "One of the advantages of the dispatch solution here, is that we can use the same syntax on all sites with an efficient implementation. This can be further demonstrated in the example below, where we put all sites into a single Array.\n",
    "\n",
    "Note that in the example below, the interpreter has to use dynamic dispatch, therefore the code does not run efficient performance wise. However on non-performce intense parts of the code, this is fine."
   ]
  },
  {
   "cell_type": "code",
   "execution_count": null,
   "metadata": {},
   "outputs": [],
   "source": [
    "# create a list of sites\n",
    "site_list = [site_1, site_2, site_3, site_4, non_site]\n",
    "\n",
    "# plot all sites of the list\n",
    "for s in site_list\n",
    "    plotSite(s)\n",
    "end"
   ]
  },
  {
   "cell_type": "markdown",
   "metadata": {},
   "source": [
    "### Example 2 - Plotting (Advanced)\n",
    "\n",
    "We can extend the above example of dispatch for plotting by incorparating dispatch on site label within the plotting. Imagine, you wanted to plot sites differently for different labels, e.g. give a text next to the site if the label is a `String` or `Symbol` or chose the site markersize if it is a real number. This can be implemented as follows.\n",
    "\n",
    "For simplicity, consider only the d=2 plotting function. From the above example we already have everything set up, so now we want to distinguish by the type of the site labels. We again implement a structure like fallback and specific functions. If you want the same functionality, you could simply implement these functions for d=3 alike."
   ]
  },
  {
   "cell_type": "code",
   "execution_count": null,
   "metadata": {},
   "outputs": [],
   "source": [
    "# Fallback plotting for d=2 (overrides function above)\n",
    "function plotSite(s::S) where {L,S<:AbstractSite{L,2}}\n",
    "    println(\"plotting in 2d is used. Making a 2d dot at \", point(s), \", label has unsupported type: \", L)\n",
    "end\n",
    "\n",
    "\n",
    "# plotting for d=2 with String or Symbol label\n",
    "function plotSite(s::S) where {L<:Union{String,Symbol},S<:AbstractSite{L,2}}\n",
    "    println(\"plotting in 2d is used. Making a 2d dot at \", point(s), \", label gets text \\\"\", label(s), \"\\\"\")\n",
    "end\n",
    "\n",
    "# plotting for d=2 with Real number as label\n",
    "function plotSite(s::S) where {L<:Real,S<:AbstractSite{L,2}}\n",
    "    println(\"plotting in 2d is used. Making a 2d dot at \", point(s), \", setting markersize=\", label(s))\n",
    "end"
   ]
  },
  {
   "cell_type": "code",
   "execution_count": null,
   "metadata": {},
   "outputs": [],
   "source": [
    "plotSite(  newSite(Site{String,2}, [0.0, 0.0], \"mysite\")  )\n",
    "plotSite(  newSite(Site{Symbol,2}, [0.0, 0.0], :mysite)  )\n",
    "plotSite(  newSite(Site{Float64,2}, [0.0, 0.0], 2.0)  )\n",
    "plotSite(  newSite(Site{Int64,2}, [0.0, 0.0], 3)  )"
   ]
  }
 ],
 "metadata": {
  "@webio": {
   "lastCommId": "42c544c8599c4a12b7159bde607fc423",
   "lastKernelId": "804f98e3-5167-41bd-8f28-23bc42cb6c9d"
  },
  "kernelspec": {
   "display_name": "Julia 1.0.0",
   "language": "julia",
   "name": "julia-1.0"
  },
  "language_info": {
   "file_extension": ".jl",
   "mimetype": "application/julia",
   "name": "julia",
   "version": "1.0.0"
  }
 },
 "nbformat": 4,
 "nbformat_minor": 2
}
