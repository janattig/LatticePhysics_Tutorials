{
 "cells": [
  {
   "cell_type": "markdown",
   "metadata": {},
   "source": [
    "# Type structure and interface of bond objects\n",
    "\n",
    "One of the most defining features of lattice is connectivity between sites that is defined by **bond**. A bond therefore has its own type in `LatticePhysics.jl`, equipped with an abstract supertype as well as a shared interface.\n",
    "\n",
    "The following tutorial aims on providing an overview over the type hierachy of bonds, introducing the abstract type `AbstractBond`, as well as discussing the interface functions for this abstract type by showing examples for the concrete struct `Bond`.\n",
    "\n",
    "Note 1: It should be mentioned, that bonds are (at least in the scope of this library) synonimous with interactions, i.e. every interaction between objects on two sites is captured by one bond.\n",
    "\n",
    "Note 2: It should further be mentioned, that a bond is similar to a directed link in a graph, for a unitcell or lattice, there is always the returning bond as well.\n"
   ]
  },
  {
   "cell_type": "code",
   "execution_count": null,
   "metadata": {},
   "outputs": [],
   "source": [
    "using LatPhysBase"
   ]
  },
  {
   "cell_type": "markdown",
   "metadata": {},
   "source": [
    "### Abstract type `AbstractBond{L,N}`\n",
    "\n",
    "The abstract type that is supertype to all bond implementations is `AbstractBond`, parametric in two parameters `L` and `N`. These two parameters give the label type of the bond, `L`, as well as the number of Bravais lattice dimensions, `N`, of the surrounding Bravais lattice. The latter is used to determine if the bond points to a site within the current copy of the finite lattice / unitcell or a shifted copy along one of the Bravais lattice vectors.\n",
    "The two parameters allow for multiple dispatch on different labels as well as different Bravais lattices, as demonstrated in the following example"
   ]
  },
  {
   "cell_type": "code",
   "execution_count": null,
   "metadata": {},
   "outputs": [],
   "source": [
    "# this is a correct suptyping of bond types\n",
    "AbstractBond{String,2} <: AbstractBond"
   ]
  },
  {
   "cell_type": "code",
   "execution_count": null,
   "metadata": {},
   "outputs": [],
   "source": [
    "# correct, since Float64 is subtype of Real\n",
    "AbstractBond{Float64,2} <: AbstractBond{L,2} where {L<:Real}"
   ]
  },
  {
   "cell_type": "code",
   "execution_count": null,
   "metadata": {},
   "outputs": [],
   "source": [
    "# not correct, since String is not subtype of Real\n",
    "AbstractBond{Float64,2} <: AbstractBond{L,2} where {L<:String}"
   ]
  },
  {
   "cell_type": "code",
   "execution_count": null,
   "metadata": {},
   "outputs": [],
   "source": [
    "# not correct, since Bravais lattice dimensions don't agree\n",
    "AbstractBond{Float64,2} <: AbstractBond{L,3} where {L<:Real}"
   ]
  },
  {
   "cell_type": "markdown",
   "metadata": {},
   "source": [
    "### Concrete type `Bond{L,N} <: AbstractBond{L,N}`\n",
    "\n",
    "For all explicit `Unitcell` and `Lattice` objects, a concrete bond type is needed. Although every user could in principle implement its own concrete bond type, a default implementation is provided within `LatticePhysics.jl`, the `mutable struct Bond` implementation.\n",
    "\n",
    "`Bond` should be regarded as a subtype of `AbstractBond` and can therefore be instatiated so it should be used whenever a concrete bond implementation is needed, i.e. whenever objects are created."
   ]
  },
  {
   "cell_type": "code",
   "execution_count": null,
   "metadata": {},
   "outputs": [],
   "source": [
    "Bond{String,2} <: AbstractBond{String,2}"
   ]
  },
  {
   "cell_type": "markdown",
   "metadata": {},
   "source": [
    "### Interface of `AbstractBond` - how to access information correctly\n",
    "\n",
    "In order to gain a benefit from having an abstract supertype `AbstractBond`, one has to define a common interface that all concrete bond types that are subtype of `AbstractBond` have to implement. Then one can simply call this interface for a given (but unknown) bond object that is subtype of `AbstractBond` and rely on getting the correct results.\n",
    "\n",
    "The interface of `AbstractBond` contains various functions, which are explained in the following.\n",
    "\n",
    "\n",
    "##### 1. The constructor\n",
    "\n",
    "The constructor interface is used to create new objects of a specified bond type. It is therefore demanding to pass the bond type explicitly, as well as further information regarding the bond. The constructor syntax is\n",
    "```\n",
    "function newBond(\n",
    "            :: Type{B},\n",
    "            from    :: Integer,\n",
    "            to      :: Integer,\n",
    "            label   :: L,\n",
    "            wrap    :: NTuple{N,<:Integer}\n",
    "        ) :: B where {L,N,B<:AbstractBond{L,N}}\n",
    "```\n",
    "This interface is overwritten by the concrete bond type `Bond` to\n",
    "```\n",
    "function newBond(\n",
    "            ::Type{Bond{L,N}},\n",
    "            from    :: Int64,\n",
    "            to      :: Int64,\n",
    "            label   :: L,\n",
    "            wrap    :: NTuple{N,Int64}\n",
    "        ) :: Bond{L,N} where {L,N}\n",
    "```\n",
    "\n",
    "\n",
    "Using this constructor in constructing a `Bond{String,2}` bond object could work as follows:"
   ]
  },
  {
   "cell_type": "code",
   "execution_count": null,
   "metadata": {},
   "outputs": [],
   "source": [
    "b = newBond( Bond{String,2}, 32, 42, \"mybond\", (-1,0) )"
   ]
  },
  {
   "cell_type": "markdown",
   "metadata": {},
   "source": [
    "In a practical application, the bond type could be determined by e.g. the `Unitcell` type (which is parametric in the bond type) and is only available by dispatch within the function. This way, the bond type is never known explicitly in the code but upon execution, julia can compile a type stable function for the specific type.\n",
    "\n",
    "\n",
    "\n",
    "\n",
    "##### 2. Setter and getter for internal fields\n",
    "\n",
    "For a given bond object, the most abundant operation will be to access the connecting sites or label information. This could be either a static lookup or an overwrite. The syntax of these operations only differs by a `!` to pronounce naming similarities.\n",
    "\n",
    "All in all, there are four types of information accessible:\n",
    "1. the index of site that the bond originates from can be accessed with interface functions `from` and `from!`\n",
    "2. the index of site that the bond points to can be accessed with interface functions `to` and `to!`\n",
    "3. the label can be accessed with interface functions `label` and `label!`\n",
    "4. the wrap, i.e. which copy of unitcell/lattice is targeted, can be accessed with interface functions `wrap` and `wrap!`\n",
    "\n",
    "All functions are demonstrated in the example below"
   ]
  },
  {
   "cell_type": "code",
   "execution_count": null,
   "metadata": {},
   "outputs": [],
   "source": [
    "# print the bond origin index\n",
    "println(  from(b)  )\n",
    "\n",
    "# set the bond origin index to a new index\n",
    "from!(b, 876)\n",
    "\n",
    "# print the bond origin index again\n",
    "println(  from(b)  )"
   ]
  },
  {
   "cell_type": "code",
   "execution_count": null,
   "metadata": {},
   "outputs": [],
   "source": [
    "# print the bond destination index\n",
    "println(  to(b)  )\n",
    "\n",
    "# set the bond destination index to a new index\n",
    "to!(b, 123)\n",
    "\n",
    "# print the bond destination index again\n",
    "println(  to(b)  )"
   ]
  },
  {
   "cell_type": "code",
   "execution_count": null,
   "metadata": {},
   "outputs": [],
   "source": [
    "# print the bond label\n",
    "println(  label(b)  )\n",
    "\n",
    "# set the bond label to a new label\n",
    "label!(b, \"newlabel\")\n",
    "\n",
    "# print the bond label again\n",
    "println(  label(b)  )"
   ]
  },
  {
   "cell_type": "code",
   "execution_count": null,
   "metadata": {},
   "outputs": [],
   "source": [
    "# print the bond wrap\n",
    "println(  wrap(b)  )\n",
    "\n",
    "# set the bond wrap to a new wrap, i.e. point in another unitcell/lattice copy\n",
    "wrap!(b, (-1,1))\n",
    "\n",
    "# print the bond wrap again\n",
    "println(  wrap(b)  )"
   ]
  },
  {
   "cell_type": "markdown",
   "metadata": {},
   "source": [
    "##### 3. Checking periodicity / wrapping\n",
    "\n",
    "A common distinction for bonds is whether they point into a different copy of the current unitcell / lattice or not. In terms of the `AbstractBond` interface, this corresponds to having non-zero elements in the `wrap`.\n",
    "\n",
    "To simplify the checking of periodicity, a function called `isPeriodic` is implemented on the level of `AbstractBond` that checks the elements of `wrap` explicitly. The return value is a `Bool` that describes whether there are non-zero elements in `wrap` or not."
   ]
  },
  {
   "cell_type": "code",
   "execution_count": null,
   "metadata": {},
   "outputs": [],
   "source": [
    "b = newBond( Bond{String,2}, 32, 42, \"mybond\", (-1,0) )\n",
    "println(\"b is periodic?: \",  isPeriodic(b)  )"
   ]
  },
  {
   "cell_type": "code",
   "execution_count": null,
   "metadata": {},
   "outputs": [],
   "source": [
    "b = newBond( Bond{String,2}, 32, 42, \"mybond\", (0,0) )\n",
    "println(\"b is periodic?: \",  isPeriodic(b)  )"
   ]
  }
 ],
 "metadata": {
  "@webio": {
   "lastCommId": "7e78d57bca5f4744853c26490d4fe603",
   "lastKernelId": "611f69dc-f35f-4cdb-bcb3-dabe9fb7c168"
  },
  "kernelspec": {
   "display_name": "Julia 1.0.0",
   "language": "julia",
   "name": "julia-1.0"
  },
  "language_info": {
   "file_extension": ".jl",
   "mimetype": "application/julia",
   "name": "julia",
   "version": "1.0.0"
  }
 },
 "nbformat": 4,
 "nbformat_minor": 2
}
