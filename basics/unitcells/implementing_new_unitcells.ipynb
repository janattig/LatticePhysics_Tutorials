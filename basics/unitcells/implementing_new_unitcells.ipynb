{
 "cells": [
  {
   "cell_type": "markdown",
   "metadata": {},
   "source": [
    "# Implementing new unitcells\n",
    "\n",
    "Although the module `LatPhysUnitcellLibrary` contains many pre-implemented unitcells, you may want to implement a new unitcell by your own. \n",
    "\n",
    "This tutorial follows the steps of this procedure using the example of the pyrochlore unitcell."
   ]
  },
  {
   "cell_type": "markdown",
   "metadata": {},
   "source": [
    "### Defining the unitcell\n",
    "\n",
    "First of all, we define a new function `getUnitcellPyrochlore` which calls the constructor `newUnitcell` with lattice vectors, sites and bonds specific for the pyrochlore lattice (if not done yet, you can read more on sites in this [[notebook](https://github.com/janattig/LatticePhysics_Tutorials/blob/master/basics/sites_bonds/site_type_interface.ipynb)] and on bonds in this [[notebook](https://github.com/janattig/LatticePhysics_Tutorials/blob/master/basics/sites_bonds/bond_type_interface.ipynb)]). For the the primitive unitcell of the pyrochlore lattice this function looks like follows."
   ]
  },
  {
   "cell_type": "code",
   "execution_count": null,
   "metadata": {},
   "outputs": [],
   "source": [
    "function getUnitcellPyrochlore(\n",
    "            unitcell_type  :: Type{U},\n",
    "            # specify the implementation\n",
    "            implementation :: Val{1}\n",
    "        ) :: U where {LS,LB,S<:AbstractSite{LS,3},B<:AbstractBond{LB,3},U<:AbstractUnitcell{S,B}}\n",
    "\n",
    "    # return a new unitcell\n",
    "    return newUnitcell(\n",
    "        # type of the unitcell\n",
    "        U,\n",
    "        # lattice vectors\n",
    "        Vector{Float64}[\n",
    "            Float64[0, 0.5, 0.5],\n",
    "            Float64[0.5, 0, 0.5],\n",
    "            Float64[0.5, 0.5, 0]\n",
    "        ],\n",
    "        # sites\n",
    "        S[\n",
    "            newSite(S, Float64[0., 0., 0.], getDefaultLabelN(LS,1)),\n",
    "            newSite(S, Float64[0., 0.25, 0.25], getDefaultLabelN(LS,2)),\n",
    "            newSite(S, Float64[0.25, 0., 0.25], getDefaultLabelN(LS,3)),\n",
    "            newSite(S, Float64[0.25, 0.25, 0.], getDefaultLabelN(LS,4))\n",
    "        ],\n",
    "        # bonds\n",
    "        B[\n",
    "            newBond(B, 1,2, getDefaultLabel(LB), (0,0,0)),\n",
    "            newBond(B, 1,3, getDefaultLabel(LB), (0,0,0)),\n",
    "            newBond(B, 1,4, getDefaultLabel(LB), (0,0,0)),\n",
    "            newBond(B, 2,1, getDefaultLabel(LB), (0,0,0)),\n",
    "            newBond(B, 2,3, getDefaultLabel(LB), (0,0,0)),\n",
    "            newBond(B, 2,4, getDefaultLabel(LB), (0,0,0)),\n",
    "            newBond(B, 3,1, getDefaultLabel(LB), (0,0,0)),\n",
    "            newBond(B, 3,2, getDefaultLabel(LB), (0,0,0)),\n",
    "            newBond(B, 3,4, getDefaultLabel(LB), (0,0,0)),\n",
    "            newBond(B, 4,1, getDefaultLabel(LB), (0,0,0)),\n",
    "            newBond(B, 4,2, getDefaultLabel(LB), (0,0,0)),\n",
    "            newBond(B, 4,3, getDefaultLabel(LB), (0,0,0)),\n",
    "\n",
    "            newBond(B, 1,4, getDefaultLabel(LB), (0,0,-1)),\n",
    "            newBond(B, 4,1, getDefaultLabel(LB), (0,0,+1)),\n",
    "            newBond(B, 1,2, getDefaultLabel(LB), (-1,0,0)),\n",
    "            newBond(B, 2,1, getDefaultLabel(LB), (+1,0,0)),\n",
    "            newBond(B, 1,3, getDefaultLabel(LB), (0,-1,0)),\n",
    "            newBond(B, 3,1, getDefaultLabel(LB), (0,+1,0)),\n",
    "\n",
    "            newBond(B, 2,3, getDefaultLabel(LB), (+1,-1,0)),\n",
    "            newBond(B, 3,2, getDefaultLabel(LB), (-1,+1,0)),\n",
    "            newBond(B, 2,4, getDefaultLabel(LB), (+1,0,-1)),\n",
    "            newBond(B, 4,2, getDefaultLabel(LB), (-1,0,+1)),\n",
    "            newBond(B, 3,4, getDefaultLabel(LB), (0,+1,-1)),\n",
    "            newBond(B, 4,3, getDefaultLabel(LB), (0,-1,+1))\n",
    "        ]\n",
    "    )\n",
    "end"
   ]
  },
  {
   "cell_type": "markdown",
   "metadata": {},
   "source": [
    "### Making everything work\n",
    "\n",
    "Now we want to make this function accessible when using the module `LatPhysUnitcellLibrary`. To this end we have to do the following three steps:\n",
    "\n",
    "\n",
    "* First we create a new file `pyrochlore.jl` with the above function `getUnitcellPyrochlore` in the directory `./src/unitcells_3d` (or in `./src/unitcells_2d` for two-dimesional unitcells respectively). In the case of various implementations of a unitcell, e.g. primitive and conventional, each unitcell gets its own implementation of `getUnitcellPyrochlore`, each specified by a different value \n",
    "\n",
    "        implementation :: Val{1}\n",
    "        implementation :: Val{2}\n",
    "        etc.\n",
    "        \n",
    "    All implementations of `getUnitcellPyrochlore` have to be stored in the same `pyrochlore.jl`.\n",
    "\n",
    "\n",
    "* Then we add the following new element to the tuple `functions_generate` in `code_generation.jl` in order to generate the interface functions: \n",
    "\n",
    "        (\"Pyrochlore\", 3, 3)\n",
    "        \n",
    "   For two-dimensional unitcells this element has to have the form:\n",
    "\n",
    "        (\"NameOfUnitcell\", 2, 2)\n",
    "    \n",
    "* Finally we include our new definition in the `definitions_3d.jl` (`definitions_sd.jl` respectively) by adding the line \n",
    "\n",
    "        include(\"unitcells_3d/pyrochlore.jl\")\n",
    "        \n",
    "After this, when using the module `LatPhysUnitcellLibrary` again, its cache file will be recompiled and the new unitcell will be accessible."
   ]
  },
  {
   "cell_type": "code",
   "execution_count": 1,
   "metadata": {},
   "outputs": [
    {
     "name": "stderr",
     "output_type": "stream",
     "text": [
      "┌ Info: Recompiling stale cache file C:\\Users\\Martin\\.julia\\compiled\\v1.0\\LatPhysUnitcellLibrary\\m6ueq.ji for LatPhysUnitcellLibrary [9ab7acfc-e8ca-11e8-283d-b33250f7e765]\n",
      "└ @ Base loading.jl:1190\n"
     ]
    }
   ],
   "source": [
    "using LatPhysBase\n",
    "using LatPhysUnitcellLibrary"
   ]
  },
  {
   "cell_type": "markdown",
   "metadata": {},
   "source": [
    "A pyrochlore `Unitcell` object can now be constructed as usual"
   ]
  },
  {
   "cell_type": "code",
   "execution_count": 2,
   "metadata": {},
   "outputs": [
    {
     "data": {
      "text/plain": [
       "Unitcell object\n",
       "--> type Unitcell{Site{Int64,3},Bond{Int64,3}}\n",
       "--> 4 sites of type Site{Int64,3}\n",
       "--> 24 bonds of type Bond{Int64,3}"
      ]
     },
     "execution_count": 2,
     "metadata": {},
     "output_type": "execute_result"
    }
   ],
   "source": [
    "getUnitcellPyrochlore()"
   ]
  },
  {
   "cell_type": "markdown",
   "metadata": {},
   "source": [
    "Also, if available, different implementations of the pyrochlore `Unitcell` object can be constructed as usual. "
   ]
  },
  {
   "cell_type": "code",
   "execution_count": 3,
   "metadata": {},
   "outputs": [
    {
     "data": {
      "text/plain": [
       "Unitcell object\n",
       "--> type Unitcell{Site{Int64,3},Bond{Int64,3}}\n",
       "--> 4 sites of type Site{Int64,3}\n",
       "--> 24 bonds of type Bond{Int64,3}"
      ]
     },
     "execution_count": 3,
     "metadata": {},
     "output_type": "execute_result"
    }
   ],
   "source": [
    "getUnitcellPyrochlore(1)"
   ]
  },
  {
   "cell_type": "code",
   "execution_count": 4,
   "metadata": {},
   "outputs": [
    {
     "data": {
      "text/plain": [
       "Unitcell object\n",
       "--> type Unitcell{Site{Int64,3},Bond{Int64,3}}\n",
       "--> 16 sites of type Site{Int64,3}\n",
       "--> 96 bonds of type Bond{Int64,3}"
      ]
     },
     "execution_count": 4,
     "metadata": {},
     "output_type": "execute_result"
    }
   ],
   "source": [
    "getUnitcellPyrochlore(2)"
   ]
  }
 ],
 "metadata": {
  "kernelspec": {
   "display_name": "Julia 1.0.3",
   "language": "julia",
   "name": "julia-1.0"
  },
  "language_info": {
   "file_extension": ".jl",
   "mimetype": "application/julia",
   "name": "julia",
   "version": "1.0.3"
  }
 },
 "nbformat": 4,
 "nbformat_minor": 2
}
