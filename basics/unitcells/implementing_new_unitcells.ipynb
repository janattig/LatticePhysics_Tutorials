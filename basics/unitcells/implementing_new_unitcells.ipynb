{
 "cells": [
  {
   "cell_type": "markdown",
   "metadata": {},
   "source": [
    "# Implementing new unitcells\n",
    "\n",
    "Although the module `LatPhysUnitcellLibrary` contains many pre-implemented unitcells, you may either want to have another implementation of an already existing unitcell or implement a completely new unitcell by your own. \n",
    "\n",
    "This tutorial follows the steps of both of these procedures using the example of the pyrochlore unitcell.\n",
    "\n",
    "## Adding a new implementation to an already existing unitcell\n",
    "\n",
    "Loading the necessary modules"
   ]
  },
  {
   "cell_type": "code",
   "execution_count": 1,
   "metadata": {},
   "outputs": [],
   "source": [
    "using LatPhysBase\n",
    "using LatPhysUnitcellLibrary"
   ]
  },
  {
   "cell_type": "markdown",
   "metadata": {},
   "source": [
    "Originally, `LatPhysUnitcellLibrary` comes with two different implementations of the pyrochlore unit cell, namely the primitive and the conventional unitcell. These can be constructed by passing the function `getUnitcellPyrochlore` the argument 1 or 2 respectively. If we try to construct another, not yet existing implementation of the pyrochlore lattice, say implementation 42, an error will be thrown."
   ]
  },
  {
   "cell_type": "code",
   "execution_count": 2,
   "metadata": {},
   "outputs": [
    {
     "ename": "ErrorException",
     "evalue": "Implementation 42 of pyrochlore unitcell (label types Int64 / Int64) not implemented yet",
     "output_type": "error",
     "traceback": [
      "Implementation 42 of pyrochlore unitcell (label types Int64 / Int64) not implemented yet",
      "",
      "Stacktrace:",
      " [1] error(::String) at ./error.jl:33",
      " [2] getUnitcellPyrochlore(::Type{Unitcell{Site{Int64,3},Bond{Int64,3}}}, ::Val{42}) at /home/mgembe/.julia/packages/LatPhysUnitcellLibrary/Rms6K/src/code_generation.jl:69",
      " [3] getUnitcellPyrochlore(::Type{Unitcell{Site{Int64,3},Bond{Int64,3}}}, ::Int64) at /home/mgembe/.julia/packages/LatPhysUnitcellLibrary/Rms6K/src/code_generation.jl:57",
      " [4] getUnitcellPyrochlore(::Int64) at /home/mgembe/.julia/packages/LatPhysUnitcellLibrary/Rms6K/src/code_generation.jl:85",
      " [5] top-level scope at In[2]:1"
     ]
    }
   ],
   "source": [
    "getUnitcellPyrochlore(42)"
   ]
  },
  {
   "cell_type": "markdown",
   "metadata": {},
   "source": [
    "#### Adding the new implementation\n",
    "\n",
    "So if we want to add implementation 42 of the pyrochlore unitcell to `LatPhysUnitcellLibrary`, this can be done as follows. \n",
    "\n",
    " The already existing implementations 1 and 2 of the pyrochlore unitcell are saved in the file `./src/unitcells_3d/pyrochlore.jl`. There we can just add a new function `getUnitcellPyrochlore` with the desired implementation value \n",
    " \n",
    "        implementation :: Val{42}\n",
    "        \n",
    "which calls the constructor `newUnitcell` with lattice vectors, sites and bonds specific for the desired implementation of the pyrochlore unitcell (if not done yet, you can read more on sites in this [[notebook](https://github.com/janattig/LatticePhysics_Tutorials/blob/master/basics/sites_bonds/site_type_interface.ipynb)] and on bonds in this [[notebook](https://github.com/janattig/LatticePhysics_Tutorials/blob/master/basics/sites_bonds/bond_type_interface.ipynb)]). This function might have the form shown below (the function of implementation 42 shown is only for educational purposes and differs from the implementation 1 of the primitive unitcell only by the implementation value).\n",
    "\n",
    "Alternatively, when working in a Jupyter notebook, you can explicitly import the function `getUnitcellPyrochlore` and add a new method to it by running the code below."
   ]
  },
  {
   "cell_type": "code",
   "execution_count": 3,
   "metadata": {},
   "outputs": [],
   "source": [
    "import LatPhysUnitcellLibrary.getUnitcellPyrochlore"
   ]
  },
  {
   "cell_type": "code",
   "execution_count": 4,
   "metadata": {},
   "outputs": [
    {
     "data": {
      "text/plain": [
       "getUnitcellPyrochlore (generic function with 12 methods)"
      ]
     },
     "execution_count": 4,
     "metadata": {},
     "output_type": "execute_result"
    }
   ],
   "source": [
    "function getUnitcellPyrochlore(\n",
    "            unitcell_type  :: Type{U},\n",
    "            # specify the implementation\n",
    "            implementation :: Val{42}\n",
    "        ) :: U where {LS,LB,S<:AbstractSite{LS,3},B<:AbstractBond{LB,3},U<:AbstractUnitcell{S,B}}\n",
    "\n",
    "    # return a new unitcell\n",
    "    return newUnitcell(\n",
    "        # type of the unitcell\n",
    "        U,\n",
    "        # lattice vectors\n",
    "        Vector{Float64}[\n",
    "            Float64[0, 0.5, 0.5],\n",
    "            Float64[0.5, 0, 0.5],\n",
    "            Float64[0.5, 0.5, 0]\n",
    "        ],\n",
    "        # sites\n",
    "        S[\n",
    "            newSite(S, Float64[0., 0., 0.], getDefaultLabelN(LS,1)),\n",
    "            newSite(S, Float64[0., 0.25, 0.25], getDefaultLabelN(LS,2)),\n",
    "            newSite(S, Float64[0.25, 0., 0.25], getDefaultLabelN(LS,3)),\n",
    "            newSite(S, Float64[0.25, 0.25, 0.], getDefaultLabelN(LS,4))\n",
    "        ],\n",
    "        # bonds\n",
    "        B[\n",
    "            newBond(B, 1,2, getDefaultLabel(LB), (0,0,0)),\n",
    "            newBond(B, 1,3, getDefaultLabel(LB), (0,0,0)),\n",
    "            newBond(B, 1,4, getDefaultLabel(LB), (0,0,0)),\n",
    "            newBond(B, 2,1, getDefaultLabel(LB), (0,0,0)),\n",
    "            newBond(B, 2,3, getDefaultLabel(LB), (0,0,0)),\n",
    "            newBond(B, 2,4, getDefaultLabel(LB), (0,0,0)),\n",
    "            newBond(B, 3,1, getDefaultLabel(LB), (0,0,0)),\n",
    "            newBond(B, 3,2, getDefaultLabel(LB), (0,0,0)),\n",
    "            newBond(B, 3,4, getDefaultLabel(LB), (0,0,0)),\n",
    "            newBond(B, 4,1, getDefaultLabel(LB), (0,0,0)),\n",
    "            newBond(B, 4,2, getDefaultLabel(LB), (0,0,0)),\n",
    "            newBond(B, 4,3, getDefaultLabel(LB), (0,0,0)),\n",
    "\n",
    "            newBond(B, 1,4, getDefaultLabel(LB), (0,0,-1)),\n",
    "            newBond(B, 4,1, getDefaultLabel(LB), (0,0,+1)),\n",
    "            newBond(B, 1,2, getDefaultLabel(LB), (-1,0,0)),\n",
    "            newBond(B, 2,1, getDefaultLabel(LB), (+1,0,0)),\n",
    "            newBond(B, 1,3, getDefaultLabel(LB), (0,-1,0)),\n",
    "            newBond(B, 3,1, getDefaultLabel(LB), (0,+1,0)),\n",
    "\n",
    "            newBond(B, 2,3, getDefaultLabel(LB), (+1,-1,0)),\n",
    "            newBond(B, 3,2, getDefaultLabel(LB), (-1,+1,0)),\n",
    "            newBond(B, 2,4, getDefaultLabel(LB), (+1,0,-1)),\n",
    "            newBond(B, 4,2, getDefaultLabel(LB), (-1,0,+1)),\n",
    "            newBond(B, 3,4, getDefaultLabel(LB), (0,+1,-1)),\n",
    "            newBond(B, 4,3, getDefaultLabel(LB), (0,-1,+1))\n",
    "        ]\n",
    "    )\n",
    "end"
   ]
  },
  {
   "cell_type": "markdown",
   "metadata": {},
   "source": [
    "Now, also implementation 42 of the pyrochlore unitcell is accessible."
   ]
  },
  {
   "cell_type": "code",
   "execution_count": 5,
   "metadata": {},
   "outputs": [
    {
     "data": {
      "text/plain": [
       "Unitcell object\n",
       "--> type Unitcell{Site{Int64,3},Bond{Int64,3}}\n",
       "--> 4 sites of type Site{Int64,3}\n",
       "--> 24 bonds of type Bond{Int64,3}"
      ]
     },
     "execution_count": 5,
     "metadata": {},
     "output_type": "execute_result"
    }
   ],
   "source": [
    "getUnitcellPyrochlore(42)"
   ]
  },
  {
   "cell_type": "markdown",
   "metadata": {},
   "source": [
    "## Implementing a new unitcell"
   ]
  },
  {
   "cell_type": "markdown",
   "metadata": {},
   "source": [
    "Now we are going to assume that we want to add a unitcell to the module `LatPhysUnitcellLibrary`, for which there is no implementation so far. To this end we have to do the following three steps:\n",
    "\n",
    "\n",
    "* First we create a new file `NameOfUnitcell.jl` containing the function `getUnitcellNameOfUnitcell` that calls the constructor of the desired unitcell (e.g. as `getUnitcellPyrochlore` above) in the directory `./src/unitcells_3d` for three-dimesional unitcells or in `./src/unitcells_2d` for two-dimesional unitcells respectively. In the case of various implementations of the new unitcell, e.g. primitive and conventional, each one gets its own implementation of `getUnitcellNameOfUnitcell`, each specified by a different value \n",
    "\n",
    "        implementation :: Val{1}\n",
    "        implementation :: Val{2}\n",
    "        etc.\n",
    "        \n",
    "    All implementations of `getUnitcellNameOfUnitcell` have to be stored in the same `NameOfUnitcell.jl`.\n",
    "\n",
    "\n",
    "* For three-dimensional unitcells we then add the following new element to the tuple `functions_generate` in `code_generation.jl` in order to generate the interface functions: \n",
    "\n",
    "        (\"NameOfUnitcell\", 3, 3)\n",
    "        \n",
    "   For two-dimensional unitcells this element has to have the form:\n",
    "\n",
    "        (\"NameOfUnitcell\", 2, 2)\n",
    "    \n",
    "* Finally we include our new definition in the `definitions_3d.jl` (`definitions_2d.jl` respectively) by adding the line \n",
    "\n",
    "        include(\"unitcells_3d/NameOfUnitcell.jl\")\n",
    "        \n",
    "After this, when using the module `LatPhysUnitcellLibrary` again, its cache file will be recompiled and the new unitcell will be accessible."
   ]
  }
 ],
 "metadata": {
  "kernelspec": {
   "display_name": "Julia 1.0.0",
   "language": "julia",
   "name": "julia-1.0"
  },
  "language_info": {
   "file_extension": ".jl",
   "mimetype": "application/julia",
   "name": "julia",
   "version": "1.0.0"
  }
 },
 "nbformat": 4,
 "nbformat_minor": 2
}
