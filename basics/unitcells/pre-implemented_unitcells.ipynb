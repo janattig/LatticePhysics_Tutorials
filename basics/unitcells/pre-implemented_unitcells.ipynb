{
 "cells": [
  {
   "cell_type": "markdown",
   "metadata": {},
   "source": [
    "# Pre-Implemented Unitcells\n",
    "\n",
    "Unitcells, the basic building blocks of large lattices, can be represented in code by objects that are subtype of `AbstractUnitcell`. The respectiv default concrete type that is used in the whole `LatticePhysics.jl` is `Unitcell`.\n",
    "\n",
    "There are many pre-implemented unitcells available, which can be found in the module `LatPhysUnitcellLibrary` which in return is incorparated into the main module `LatticePhysics.jl`.\n",
    "\n",
    "In the following tutorial, we want to generate a pre-implemented unitcell and examine the contents.\n",
    "\n",
    "\n",
    "\n",
    "### Loading the modules\n",
    "\n",
    "Instead of plainly loading the main module `LatticePhysics.jl`, one can also individually load the necessary modules"
   ]
  },
  {
   "cell_type": "code",
   "execution_count": null,
   "metadata": {},
   "outputs": [],
   "source": [
    "using LatPhysBase\n",
    "using LatPhysUnitcellLibrary"
   ]
  },
  {
   "cell_type": "markdown",
   "metadata": {},
   "source": [
    "### Getting a pre-implemented unitcell\n",
    "\n",
    "The unitcell implementation can be called s.t. a `Unitcell` object is created. This object contains all information on the unitcell."
   ]
  },
  {
   "cell_type": "code",
   "execution_count": null,
   "metadata": {},
   "outputs": [],
   "source": [
    "uc = getUnitcellHoneycomb()"
   ]
  },
  {
   "cell_type": "markdown",
   "metadata": {},
   "source": [
    "Note that the output already contains some information on the unitcell and the `Unitcell` object. Apart from noting that it is indeed a Unitcell object, the output contains\n",
    "\n",
    "1. the specific **julia type** of the `Unitcell` object\n",
    "2. the **number** and **julia type** of the contained **sites** (which in return contain the spatial dimension)\n",
    "3. the **number** and **julia type** of the contained **bonds** (which in return contain the Bravais lattice dimension)\n",
    "\n",
    "\n",
    "\n",
    "### Various pre-implemented unitcells\n",
    "\n",
    "Different unitcells can be accessed by similar functions that are named in the convention `getUnitcellNameOfUnitcell`. Examples are listed below, but all functions can be found by typing `getUnitcell` into a julia-REPL and hitting TAB two times."
   ]
  },
  {
   "cell_type": "code",
   "execution_count": null,
   "metadata": {},
   "outputs": [],
   "source": [
    "# Examples in 2D\n",
    "uc = getUnitcellKagome();\n",
    "uc = getUnitcellHoneycomb();\n",
    "uc = getUnitcellTriangular();\n",
    "uc = getUnitcellSquare();\n",
    "\n",
    "# Examples in 3D\n",
    "uc = getUnitcellCubic();\n",
    "uc = getUnitcellFCC();\n",
    "\n",
    "# ... and many more"
   ]
  },
  {
   "cell_type": "markdown",
   "metadata": {},
   "source": [
    "### Different implementations of one unitcell\n"
   ]
  },
  {
   "cell_type": "code",
   "execution_count": null,
   "metadata": {},
   "outputs": [],
   "source": []
  },
  {
   "cell_type": "code",
   "execution_count": null,
   "metadata": {},
   "outputs": [],
   "source": []
  }
 ],
 "metadata": {
  "@webio": {
   "lastCommId": "ad3d71eceec84ad7849eaee8542eb627",
   "lastKernelId": "e03d3c07-643c-4a1a-9ba1-b7cab3c2f8ad"
  },
  "kernelspec": {
   "display_name": "Julia 1.0.0",
   "language": "julia",
   "name": "julia-1.0"
  },
  "language_info": {
   "file_extension": ".jl",
   "mimetype": "application/julia",
   "name": "julia",
   "version": "1.0.0"
  }
 },
 "nbformat": 4,
 "nbformat_minor": 2
}
