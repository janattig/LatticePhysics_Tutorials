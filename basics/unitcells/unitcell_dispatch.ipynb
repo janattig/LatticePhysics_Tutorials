{
 "cells": [
  {
   "cell_type": "markdown",
   "metadata": {},
   "source": [
    "# Dispatch for `AbstractUnitcell` objects\n",
    "\n",
    "Since a lot of information about unitcell objects is already encoded into their type signature, this signature can be used in dispatch to greatly reduce the number of `if` statements as well as greatly improve the performance of your code.\n",
    "\n",
    "This tutorial aims at providing an overview how to use dispatch for `AbstractUnitcell` objects as well as giving some examples. It is very much advised to first work through the tutorials for [dispatching on site types ](https://github.com/janattig/LatticePhysics_Tutorials/blob/master/basics/sites_bonds/site_dispatch.ipynb) as well as [dispatching on bond types](https://github.com/janattig/LatticePhysics_Tutorials/blob/master/basics/sites_bonds/bond_dispatch.ipynb). Also, fundamental knowledge about how unitcells work should be present.\n",
    "\n",
    "Since the requirements explain dispatch in greater detail, this tutorial will mainly focus on examples. Also note, that for the sake of simple examples, this tutorial will use pre-implemented unitcells from `LatPhysUnitcellLibrary`."
   ]
  },
  {
   "cell_type": "code",
   "execution_count": null,
   "metadata": {},
   "outputs": [],
   "source": [
    "using LatPhysBase\n",
    "using LatPhysUnitcellLibrary"
   ]
  },
  {
   "cell_type": "markdown",
   "metadata": {},
   "source": [
    "# Examples\n",
    "\n",
    "Let's discuss some applications in the following\n",
    "\n",
    "\n",
    "\n",
    "### Example 1 - bond offset vector from unitcell\n",
    "\n",
    "If you worked through the tutorial on bond type dispatch, you will remember the example on calculating the offset vector for a given bond, given some lattice vectors. This example was very artificial since a lot of the information needed is not present in a bond object. However, it is available for unitcells, therefore the implementation of offsets should rather be conducted on the level of unitcells.\n",
    "\n",
    "Read again throught the code of example 1 in the bond type dispatch [tutorial](https://github.com/janattig/LatticePhysics_Tutorials/blob/master/basics/sites_bonds/bond_dispatch.ipynb). The problems encountered there were the following:\n",
    "1. site positions are not available from within a bond (only the site index)\n",
    "2. lattice vectors are not available from within a bond\n",
    "3. for the N=0 case, the spatial dimension is not known from within the bond\n",
    "\n",
    "An implemntation on the level of unitcells is solving these three problems all at once:\n",
    "1. site positions are known since the unitcell contains all sites\n",
    "2. lattice vectors are known since the unitcell contains all lattice vectors\n",
    "3. spatial dimension is known and even encoded into the unitcell type as the parameter `D` of the site type\n",
    "\n",
    "In the following, we want to develope an offset function syntax to which it is only necessary to pass a bond and a unitcell object.\n",
    "\n",
    "\n",
    "\n",
    "##### Fallback\n",
    "\n",
    "Before any code is implemented, it should be worth thinking about what can go wrong and implement a fallback function for this case. The most obvious way to make a wrong function call in our case is to take a bond which is not fitting to the unitcell, e.g. because the bond expects a different number of lattice vectors than the unitcell is providing."
   ]
  },
  {
   "cell_type": "code",
   "execution_count": null,
   "metadata": {},
   "outputs": [],
   "source": [
    "# Fallback function (for any bond and any unitcell)\n",
    "function offset(\n",
    "        b :: B,\n",
    "        u :: U\n",
    "    ) where {N,L,B<:AbstractBond{L,N}, SU,BU,U<:AbstractUnitcell{SU,BU}}\n",
    "   \n",
    "    # give an error that the bond is not fitting to the unitcell\n",
    "    @error \"unitcell and bond are not fitting\"\n",
    "end"
   ]
  },
  {
   "cell_type": "markdown",
   "metadata": {},
   "source": [
    "##### Fallback with fitting Bravais lattice dimension N\n",
    "\n",
    "All relevant cases use the same Bravais lattice dimension `N` in both the passed bond, as well as the unitcell type. Generically, this could lead to the next level of fallback, e.g. creating a fallback function for using the same `N` but of a value that is not supported"
   ]
  },
  {
   "cell_type": "code",
   "execution_count": null,
   "metadata": {},
   "outputs": [],
   "source": [
    "# Fallback function (for fitting bond and unitcell)\n",
    "function offset(\n",
    "        b :: B,\n",
    "        u :: U\n",
    "    ) where {N,L,B<:AbstractBond{L,N}, S,LU,BU<:AbstractBond{LU,N},U<:AbstractUnitcell{S,BU}}\n",
    "    \n",
    "    # give an error that the bond is not fitting to the unitcell\n",
    "    @error \"unitcell and bond are using unsupported N=\"*string(N)\n",
    "end"
   ]
  },
  {
   "cell_type": "markdown",
   "metadata": {},
   "source": [
    "##### Use cases for supported Bravais lattice dimension N\n",
    "\n",
    "To show the above syntax in detail, let's consider only the case of N=2 in the following (this way, N=3 is unsupported). The following code provides a working offset calculation for a unitcell and bond of Bravais lattice dimensiion 2."
   ]
  },
  {
   "cell_type": "code",
   "execution_count": null,
   "metadata": {},
   "outputs": [],
   "source": [
    "# use case N=2\n",
    "function offset(\n",
    "        b :: B,\n",
    "        u :: U\n",
    "    ) :: Vector{Float64} where {L,B<:AbstractBond{L,2}, S,LU,BU<:AbstractBond{LU,2},U<:AbstractUnitcell{S,BU}}\n",
    "    \n",
    "    # return the offset vector\n",
    "    return point(site(u,to(b))) .- point(site(u,from(b))) .+ wrap(b)[1].*a1(u) .+ wrap(b)[2].*a2(u)\n",
    "end"
   ]
  },
  {
   "cell_type": "markdown",
   "metadata": {},
   "source": [
    "##### Testing the implementation\n",
    "\n",
    "Let us test the above syntax by providing three examples:\n",
    "1. A working example for providing a bond from the unitcell that is passed\n",
    "2. A working example by providing a made up bond compatible with the unitcell that is passed\n",
    "3. An unsupported example by providing a bond from a unitcell with unsupported N\n",
    "4. A broken example by providing unrelated bond and unitcell"
   ]
  },
  {
   "cell_type": "code",
   "execution_count": null,
   "metadata": {},
   "outputs": [],
   "source": [
    "# Example 1 - A working example for providing a bond from the unitcell that is passed\n",
    "uc = getUnitcellHoneycomb()\n",
    "b  = bond(uc,2)\n",
    "offset(b, uc)"
   ]
  },
  {
   "cell_type": "code",
   "execution_count": null,
   "metadata": {},
   "outputs": [],
   "source": [
    "# Example 2 - A working example by providing a made up bond compatible with the unitcell that is passed\n",
    "uc = getUnitcellHoneycomb()\n",
    "b  = newBond( Bond{String,2}, 1,2, \"mybond\", (0,-2))\n",
    "offset(b, uc)"
   ]
  },
  {
   "cell_type": "code",
   "execution_count": null,
   "metadata": {},
   "outputs": [],
   "source": [
    "# Example 3 - An unsupported example by providing a bond from a unitcell with unsupported N\n",
    "uc = getUnitcellCubic()\n",
    "b  = bond(uc,2)\n",
    "offset(b, uc)"
   ]
  },
  {
   "cell_type": "code",
   "execution_count": null,
   "metadata": {},
   "outputs": [],
   "source": [
    "# Example 4 - A broken example by providing unrelated bond and unitcell\n",
    "uc = getUnitcellCubic()\n",
    "b  = newBond( Bond{String,2}, 1,2, \"mybond\", (0,-2))\n",
    "offset(b, uc)"
   ]
  }
 ],
 "metadata": {
  "@webio": {
   "lastCommId": "6e98c2a6b2754e2eab54ac98f2d68aba",
   "lastKernelId": "6a579121-e3ff-497a-907b-33d43cc3c523"
  },
  "kernelspec": {
   "display_name": "Julia 1.0.0",
   "language": "julia",
   "name": "julia-1.0"
  },
  "language_info": {
   "file_extension": ".jl",
   "mimetype": "application/julia",
   "name": "julia",
   "version": "1.0.0"
  }
 },
 "nbformat": 4,
 "nbformat_minor": 2
}
