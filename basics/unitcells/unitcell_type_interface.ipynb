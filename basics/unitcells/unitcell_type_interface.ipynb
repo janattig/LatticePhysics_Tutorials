{
 "cells": [
  {
   "cell_type": "markdown",
   "metadata": {},
   "source": [
    "# Type structure and interface of unitcell objects\n",
    "\n",
    "The most defining feature of a lattice is the periodic arrangement of **sites**, connected by **bonds**. However, not every site can be mapped onto every other by translation of Bravais lattices, but one can define groups of sites, that can be mapped onto each other, so called **unitcells** of the lattice. Similar to site and bond, unitcells therefore have their own type in `LatticePhysics.jl`, equipped with an abstract supertype as well as a shared interface.\n",
    "\n",
    "The following tutorial aims on providing an overview over the type hierachy of unitcells, introducing the abstract type `AbstractUnitcell`, as well as discussing the interface functions for this abstract type by showing examples for the concrete struct `Unitcell`.\n"
   ]
  },
  {
   "cell_type": "code",
   "execution_count": null,
   "metadata": {},
   "outputs": [],
   "source": [
    "using LatPhysBase"
   ]
  },
  {
   "cell_type": "markdown",
   "metadata": {},
   "source": [
    "### Abstract type `AbstractUnitcell{S,B}`\n",
    "\n",
    "The abstract type that is supertype to all unitcell implementations is `AbstractUnitcell`, parametric in two parameters `S` and `B`. These two parameters are the site type `S`, itself subtype of `AbstractSite`, as well as the bond type `B`, subtype of `AbstractBond`.\n",
    "\n",
    "Being parametric in these two types already is sufficient to dispatch unitcell objects based on\n",
    "- real space dimension\n",
    "- Bravais lattice dimension\n",
    "- label types of sites and bonds\n",
    "\n",
    "This dispatch behavior allows for a compact but yet powerful solution in unifying syntax, e.g. `plotLattice` instead of two functions `plotLattice2D` and `plotLattice3D`."
   ]
  },
  {
   "cell_type": "code",
   "execution_count": null,
   "metadata": {},
   "outputs": [],
   "source": [
    "# this is a correct suptyping of unitcell types\n",
    "AbstractUnitcell{ Site{String,2}, Bond{String,2} } <: AbstractUnitcell"
   ]
  },
  {
   "cell_type": "code",
   "execution_count": null,
   "metadata": {},
   "outputs": [],
   "source": [
    "# correct, since both label types are the same and subtype of string\n",
    "AbstractUnitcell{ Site{String,2}, Bond{String,2} } <: AbstractUnitcell{S,B} where {L,D,N,S<:AbstractSite{L,D},B <: AbstractBond{L,N}}"
   ]
  },
  {
   "cell_type": "code",
   "execution_count": null,
   "metadata": {},
   "outputs": [],
   "source": [
    "# not correct, since real space dimension is not matching\n",
    "AbstractUnitcell{ Site{String,2}, Bond{String,2} } <: AbstractUnitcell{S,B} where {L,S<:AbstractSite{L,3},B}"
   ]
  },
  {
   "cell_type": "markdown",
   "metadata": {},
   "source": [
    "### Concrete type `Unitcell{S,B} <: AbstractUnitcell{S,B}`\n",
    "\n",
    "For all explicit `Unitcell` and `Lattice` objects, a concrete unitcell type is needed. Although every user could in principle implement its own concrete unitcell type, a default implementation is provided within `LatticePhysics.jl`, the `mutable struct Unitcell` implementation.\n",
    "\n",
    "`Unitcell` should be regarded as a subtype of `AbstractUnitcell` and can therefore be instatiated so it should be used whenever a concrete implementation is needed, i.e. whenever objects are created."
   ]
  },
  {
   "cell_type": "code",
   "execution_count": null,
   "metadata": {},
   "outputs": [],
   "source": [
    "Unitcell{ Site{String,2}, Bond{String,2} } <: AbstractUnitcell{ Site{String,2}, Bond{String,2} }"
   ]
  },
  {
   "cell_type": "markdown",
   "metadata": {},
   "source": [
    "Note: Despite seemingly being fixed to constructing objects of concrete type `Unitcell{ Site{.}, Bond{.} }`, the parametrization of `Unitcell` allows for custom site and bond types to be inserted instead. For a user defined site type `MySite{L,D} <: AbstractSite{L,D}` (which might store more information than position and label), the type `Unitcell{ MySite{.}, Bond{.} }` can be constructed!\n",
    "\n",
    "\n",
    "\n",
    "\n",
    "### Interface of `AbstractUnitcell` - how to access information correctly\n",
    "\n",
    "In order to gain a benefit from having an abstract supertype `AbstractUnitcell`, one has to define a common interface that all concrete unitcell types that are subtype of `AbstractUnitcell` have to implement. Then one can simply call this interface for a given (but unknown) unitcell object that is subtype of `AbstractUnitcell` and rely on getting the correct results.\n",
    "\n",
    "The interface of `AbstractUnitcell` contains various functions, which are explained in the following.\n",
    "\n",
    "\n",
    "##### 1. The constructor\n",
    "\n",
    "The constructor interface is used to create new objects of a specified unitcell type. It is therefore demanding to pass the type explicitly, as well as further information regarding the unitcell. \n",
    "\n",
    "The constructor syntax is\n",
    "```\n",
    "function newUnitcell(\n",
    "            ::Type{U},\n",
    "            lattice_vectors :: Vector{<:Vector{<:Real}},\n",
    "            sites           :: Vector{S},\n",
    "            bonds           :: Vector{B}\n",
    "        ) :: U where{...}\n",
    "```\n",
    "This interface is overwritten by the concrete unitcell type `Unitcell` to\n",
    "```\n",
    "function newUnitcell(\n",
    "            :: Type{Unitcell{S,B}},\n",
    "            lattice_vectors :: Vector{<:Vector{<:Real}},\n",
    "            sites           :: Vector{S},\n",
    "            bonds           :: Vector{B}\n",
    "        ) :: Unitcell{S,B} where {D,N,LS,LB,S<:AbstractSite{LS,D},B<:AbstractBond{LB,N}}\n",
    "```\n",
    "\n",
    "\n",
    "*Note: If you want a unitcell for your calculations, the chances are high that the unitcell is already implemented with all site positions and bonds set correctly. For these pre-implemented unitcells, check the pre-implemented unitcells tutorial ([[notebook](https://github.com/janattig/LatticePhysics_Tutorials/blob/master/basics/unitcells/pre-implemented_unitcells.ipynb)]).*\n",
    "\n",
    "Using the constructor in constructing a unitcell object could work as follows:"
   ]
  },
  {
   "cell_type": "code",
   "execution_count": null,
   "metadata": {},
   "outputs": [],
   "source": [
    "# list of sites\n",
    "site_list = Site{String,2}[\n",
    "    newSite(Site{String,2}, [0,0], \"mysite\"),\n",
    "    newSite(Site{String,2}, [0.5,0.5], \"myothersite\")\n",
    "]\n",
    "\n",
    "# list of bonds\n",
    "bond_list = Bond{String,2}[\n",
    "    newBond(Bond{String,2}, 1, 2, \"mybond\", (1,0)),\n",
    "    newBond(Bond{String,2}, 2, 1, \"mybond\", (-1,0)),\n",
    "    newBond(Bond{String,2}, 1, 2, \"mybond\", (0,1)),\n",
    "    newBond(Bond{String,2}, 2, 1, \"mybond\", (0,-1)),\n",
    "    newBond(Bond{String,2}, 1, 2, \"mybond\", (1,1)),\n",
    "    newBond(Bond{String,2}, 2, 1, \"mybond\", (1,-1))\n",
    "]\n",
    "\n",
    "# list of lattice vectors\n",
    "lattice_vectors = Vector{Float64}[\n",
    "        Float64[1, 0],\n",
    "        Float64[0, 1]\n",
    "    ]\n",
    "\n",
    "\n",
    "\n",
    "# construct the unitcell\n",
    "uc = newUnitcell(\n",
    "    Unitcell{Site{String,2},Bond{String,2}},\n",
    "    lattice_vectors,\n",
    "    site_list,\n",
    "    bond_list\n",
    ")"
   ]
  },
  {
   "cell_type": "markdown",
   "metadata": {},
   "source": [
    "##### 2. Setter and getter of sites, bonds and lattice vectors\n",
    "\n",
    "The basic type of information contained in unitcells is\n",
    "- list of sites\n",
    "- list of bonds\n",
    "- Bravais lattice vectors\n",
    "\n",
    "There are interface functions for the unitcell as setters and getters for these fields which differ in definition by a `!` to pronounce the similarity in language. Syntax is of the structure\n",
    "```\n",
    "julia> field = getter(unitcell)\n",
    "\n",
    "julia> setter!(unitcell, field)\n",
    "```\n",
    "for examples, see below.\n",
    "\n",
    "Note: As these functions are part of the unitcell interface, they have to be implemented for each concrete type explicitly."
   ]
  },
  {
   "cell_type": "code",
   "execution_count": null,
   "metadata": {},
   "outputs": [],
   "source": [
    "# get list of all sites of the unitcell\n",
    "site_list = sites(uc)\n",
    "\n",
    "# set the complete list of sites of the unitcell\n",
    "sites!(uc, site_list)"
   ]
  },
  {
   "cell_type": "code",
   "execution_count": null,
   "metadata": {},
   "outputs": [],
   "source": [
    "# get list of all bonds of the unitcell\n",
    "bond_list = bonds(uc)\n",
    "\n",
    "# set the complete list of bonds of the unitcell\n",
    "bonds!(uc, bond_list)"
   ]
  },
  {
   "cell_type": "code",
   "execution_count": null,
   "metadata": {},
   "outputs": [],
   "source": [
    "# get the list of all lattice vectors of the unticells Bravais lattice\n",
    "lv = latticeVectors(uc)\n",
    "\n",
    "# set the Bravais lattice vectors\n",
    "latticeVectors!(uc, lv)"
   ]
  },
  {
   "cell_type": "markdown",
   "metadata": {},
   "source": [
    "##### 3. Wrapper of sites and bonds for direct access\n",
    "\n",
    "In many cases, one is interested in individual properties of the site and bond list respectively. For this purpose, short hand notation is defined on the level of `AbstractUnitcell`, s.t. it calls interface functions which had to be defined by the user. Therefore, this short hand notation does not have to be overwritten by each concrete type.\n",
    "\n",
    "The short hand notation for sites and bonds contains\n",
    "- functions to access the number of sites and bonds (e.g. for boundaries of for loops)\n",
    "- getter for the i-th site or bond without obtaining the complete site or bond list"
   ]
  },
  {
   "cell_type": "code",
   "execution_count": null,
   "metadata": {},
   "outputs": [],
   "source": [
    "# number of sites\n",
    "println(\"unitcell has \",  numSites(uc),  \" site(s)\")\n",
    "\n",
    "# number of bonds\n",
    "println(\"unitcell has \",  numBonds(uc),  \" bond(s)\")"
   ]
  },
  {
   "cell_type": "code",
   "execution_count": null,
   "metadata": {},
   "outputs": [],
   "source": [
    "# get site 1\n",
    "println(  site(uc, 1)  )\n",
    "\n",
    "# get bond 3\n",
    "println(  bond(uc, 3)  )"
   ]
  },
  {
   "cell_type": "markdown",
   "metadata": {},
   "source": [
    "##### 4. Bond list organized by origin / destination site\n",
    "\n",
    "In some cases when an application needs bonds specifically connected to a certain site, having all bonds in one single list is not efficient. In these cases it might be easier to work with an ordered version of the bond list. This version is not a list of bonds, but rather a list of lists of bonds, where the `i`-th list either contains bonds terminating or originating from site `i`.\n",
    "\n",
    "The functions to generate these lists are implemented on the `AbstractUnitcell` level again, i.e. only call interface functions and therefore are not needed to be implemented for every concrete type specifically.\n",
    "\n",
    "For usage, see the examples below:"
   ]
  },
  {
   "cell_type": "code",
   "execution_count": null,
   "metadata": {},
   "outputs": [],
   "source": [
    "# get a list of all bonds, sorted by origin site\n",
    "organizedBondsFrom(uc)"
   ]
  },
  {
   "cell_type": "code",
   "execution_count": null,
   "metadata": {},
   "outputs": [],
   "source": [
    "# get a list of all bonds, sorted by destination site\n",
    "organizedBondsTo(uc)"
   ]
  },
  {
   "cell_type": "markdown",
   "metadata": {},
   "source": [
    "##### 5. Direct access to certain Bravais lattice vectors\n",
    "\n",
    "If one wants to directly access the Bravais lattice vectors individually, one can use the short hand notation getters `a1`, `a2`, `a3` to do so. These functions are simple wrappers of the form `ai(uc) = latticeVectors(uc)[i]` and work as demonstrated in the examples below.\n",
    "\n",
    "These functions are again implemented using interface functions so that they dont have to be overwritten for every concrete site."
   ]
  },
  {
   "cell_type": "code",
   "execution_count": null,
   "metadata": {},
   "outputs": [],
   "source": [
    "# get the first Bravais lattice vector\n",
    "a1(uc)"
   ]
  },
  {
   "cell_type": "markdown",
   "metadata": {},
   "source": [
    "##### 6. Real space vector given by a certain bond\n",
    "\n",
    "A common operation that one might want to perform is to get the real space vector that a bond is describing, i.e. going from the origin site of the bond to the destination site. The important step is to include periodic boundary conditions, i.e. the connecting vector is given by $\\sum_{i=1}^N w_i \\vec{a}_i + \\vec{r}_{to} - \\vec{r}_{from}$.\n",
    "\n",
    "Since this function is quite commonly used, it is implemented as the function `vector`, defined for both unitcells and lattices. The function can be called with a bond and a unitcell (or lattice) which are compatible in Bravais lattice dimension `N` (but not necessarily in bond label `L`). See the examples below."
   ]
  },
  {
   "cell_type": "code",
   "execution_count": null,
   "metadata": {},
   "outputs": [],
   "source": [
    "# call with a bond of the unitcell\n",
    "vector(bond(uc,1), uc)"
   ]
  },
  {
   "cell_type": "code",
   "execution_count": null,
   "metadata": {},
   "outputs": [],
   "source": [
    "# call with a made up bond compatible with the unitcell\n",
    "vector(newBond(Bond{Symbol,2}, 1, 2, :x, (-3,2)), uc)"
   ]
  }
 ],
 "metadata": {
  "@webio": {
   "lastCommId": "b562220050a7437380cdbd6bf89d1a33",
   "lastKernelId": "8a630e8f-f3e0-441a-8b20-ebca0d025ef4"
  },
  "kernelspec": {
   "display_name": "Julia 1.0.0",
   "language": "julia",
   "name": "julia-1.0"
  },
  "language_info": {
   "file_extension": ".jl",
   "mimetype": "application/julia",
   "name": "julia",
   "version": "1.0.0"
  }
 },
 "nbformat": 4,
 "nbformat_minor": 2
}
