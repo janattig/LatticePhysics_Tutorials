{
 "cells": [
  {
   "cell_type": "markdown",
   "metadata": {},
   "source": [
    "# Type structure and interface of unitcell objects\n",
    "\n",
    "The most defining feature of a lattice is the periodic arrangement of **sites**, connected by **bonds**. However, not every site can be mapped onto every other by translation of Bravais lattices, but one can define groups of sites, that can be mapped onto each other, so called **unitcells** of the lattice. Similar to site and bond, unitcells therefore have their own type in `LatticePhysics.jl`, equipped with an abstract supertype as well as a shared interface.\n",
    "\n",
    "The following tutorial aims on providing an overview over the type hierachy of unitcells, introducing the abstract type `AbstractUnitcell`, as well as discussing the interface functions for this abstract type by showing examples for the concrete struct `Unitcell`.\n"
   ]
  },
  {
   "cell_type": "code",
   "execution_count": null,
   "metadata": {},
   "outputs": [],
   "source": [
    "using LatPhysBase"
   ]
  },
  {
   "cell_type": "markdown",
   "metadata": {},
   "source": [
    "### Abstract type `AbstractUnitcell{S,B}`\n",
    "\n",
    "The abstract type that is supertype to all unitcell implementations is `AbstractUnitcell`, parametric in two parameters `S` and `B`. These two parameters are the site type `S`, itself subtype of `AbstractSite`, as well as the bond type `B`, subtype of `AbstractBond`.\n",
    "\n",
    "Being parametric in these two types already is sufficient to dispatch unitcell objects based on\n",
    "- real space dimension\n",
    "- Bravais lattice dimension\n",
    "- label types of sites and bonds\n",
    "\n",
    "This dispatch behavior allows for a compact but yet powerful solution in unifying syntax, e.g. `plotLattice` instead of two functions `plotLattice2D` and `plotLattice3D`."
   ]
  },
  {
   "cell_type": "code",
   "execution_count": null,
   "metadata": {},
   "outputs": [],
   "source": [
    "# this is a correct suptyping of unitcell types\n",
    "AbstractUnitcell{ Site{String,2}, Bond{String,2} } <: AbstractUnitcell"
   ]
  },
  {
   "cell_type": "code",
   "execution_count": null,
   "metadata": {},
   "outputs": [],
   "source": [
    "# correct, since both label types are the same and subtype of string\n",
    "AbstractUnitcell{ Site{String,2}, Bond{String,2} } <: AbstractUnitcell{S,B} where {L,D,N,S<:AbstractSite{L,D},B <: AbstractBond{L,N}}"
   ]
  },
  {
   "cell_type": "code",
   "execution_count": null,
   "metadata": {},
   "outputs": [],
   "source": [
    "# not correct, since real space dimension is not matching\n",
    "AbstractUnitcell{ Site{String,2}, Bond{String,2} } <: AbstractUnitcell{S,B} where {L,S<:AbstractSite{L,3},B}"
   ]
  },
  {
   "cell_type": "markdown",
   "metadata": {},
   "source": [
    "### Concrete type `Unitcell{S,B} <: AbstractUnitcell{S,B}`\n",
    "\n",
    "For all explicit `Unitcell` and `Lattice` objects, a concrete unitcell type is needed. Although every user could in principle implement its own concrete unitcell type, a default implementation is provided within `LatticePhysics.jl`, the `mutable struct Unitcell` implementation.\n",
    "\n",
    "`Unitcell` should be regarded as a subtype of `AbstractUnitcell` and can therefore be instatiated so it should be used whenever a concrete implementation is needed, i.e. whenever objects are created."
   ]
  },
  {
   "cell_type": "code",
   "execution_count": null,
   "metadata": {},
   "outputs": [],
   "source": [
    "Unitcell{ Site{String,2}, Bond{String,2} } <: AbstractUnitcell{ Site{String,2}, Bond{String,2} }"
   ]
  },
  {
   "cell_type": "markdown",
   "metadata": {},
   "source": [
    "Note: Despite seemingly being fixed to constructing objects of concrete type `Unitcell{ Site{.}, Bond{.} }`, the parametrization of `Unitcell` allows for custom site and bond types to be inserted instead. For a user defined site type `MySite{L,D} <: AbstractSite{L,D}` (which might store more information than position and label), the type `Unitcell{ MySite{.}, Bond{.} }` can be constructed!\n",
    "\n",
    "\n",
    "\n",
    "\n",
    "### Interface of `AbstractUnitcell` - how to access information correctly\n",
    "\n",
    "In order to gain a benefit from having an abstract supertype `AbstractUnitcell`, one has to define a common interface that all concrete unitcell types that are subtype of `AbstractUnitcell` have to implement. Then one can simply call this interface for a given (but unknown) unitcell object that is subtype of `AbstractUnitcell` and rely on getting the correct results.\n",
    "\n",
    "The interface of `AbstractUnitcell` contains various functions, which are explained in the following.\n",
    "\n",
    "\n",
    "##### 1. The constructor\n",
    "\n",
    "The constructor interface is used to create new objects of a specified unitcell type. It is therefore demanding to pass the type explicitly, as well as further information regarding the unitcell. \n",
    "\n",
    "The constructor syntax is\n",
    "```\n",
    "function newUnitcell(\n",
    "            ::Type{U},\n",
    "            lattice_vectors :: Vector{<:Vector{<:Real}},\n",
    "            sites           :: Vector{S},\n",
    "            bonds           :: Vector{B}\n",
    "        ) :: U where{...}\n",
    "```\n",
    "This interface is overwritten by the concrete unitcell type `Unitcell` to\n",
    "```\n",
    "function newUnitcell(\n",
    "            :: Type{Unitcell{S,B}},\n",
    "            lattice_vectors :: Vector{<:Vector{<:Real}},\n",
    "            sites           :: Vector{S},\n",
    "            bonds           :: Vector{B}\n",
    "        ) :: Unitcell{S,B} where {D,N,LS,LB,S<:AbstractSite{LS,D},B<:AbstractBond{LB,N}}\n",
    "```\n",
    "\n",
    "\n",
    "*Note: If you want a unitcell for your calculations, the chances are high that the unitcell is already implemented with all site positions and bonds set correctly. For these pre-implemented unitcells, check the pre-implemented unitcells tutorial ([[notebook](https://github.com/janattig/LatticePhysics_Tutorials/blob/master/basics/unitcells/pre-implemented_unitcells.ipynb)]).*\n",
    "\n",
    "Using the constructor in constructing a unitcell object could work as follows:"
   ]
  },
  {
   "cell_type": "code",
   "execution_count": null,
   "metadata": {},
   "outputs": [],
   "source": [
    "# list of sites\n",
    "site_list = Site{String,2}[\n",
    "    newSite(Site{String,2}, [0,0], \"mysite\")\n",
    "]\n",
    "\n",
    "# list of bonds\n",
    "bond_list = Bond{String,2}[\n",
    "    newBond(Bond{String,2}, 1, 1, \"mybond\", (1,0)),\n",
    "    newBond(Bond{String,2}, 1, 1, \"mybond\", (-1,0)),\n",
    "    newBond(Bond{String,2}, 1, 1, \"mybond\", (0,1)),\n",
    "    newBond(Bond{String,2}, 1, 1, \"mybond\", (0,-1))\n",
    "]\n",
    "\n",
    "# list of lattice vectors\n",
    "lattice_vectors = Vector{Float64}[\n",
    "        Float64[1, 0],\n",
    "        Float64[0, 1]\n",
    "    ]\n",
    "\n",
    "# construct the unitcell\n",
    "uc = newUnitcell(\n",
    "    Unitcell{Site{String,2},Bond{String,2}},\n",
    "    lattice_vectors,\n",
    "    site_list,\n",
    "    bond_list\n",
    ")"
   ]
  },
  {
   "cell_type": "markdown",
   "metadata": {},
   "source": [
    "##### 2. Setter and getter of sites, bonds and lattice vectors\n",
    "\n"
   ]
  },
  {
   "cell_type": "code",
   "execution_count": null,
   "metadata": {},
   "outputs": [],
   "source": []
  }
 ],
 "metadata": {
  "@webio": {
   "lastCommId": "eb205eba08d3417daa15b88d94905edb",
   "lastKernelId": "d11d7e93-b8ce-47c9-9928-881fbbf9dc17"
  },
  "kernelspec": {
   "display_name": "Julia 1.0.0",
   "language": "julia",
   "name": "julia-1.0"
  },
  "language_info": {
   "file_extension": ".jl",
   "mimetype": "application/julia",
   "name": "julia",
   "version": "1.0.0"
  }
 },
 "nbformat": 4,
 "nbformat_minor": 2
}
