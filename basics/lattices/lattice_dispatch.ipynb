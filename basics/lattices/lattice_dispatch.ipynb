{
 "cells": [
  {
   "cell_type": "markdown",
   "metadata": {},
   "source": [
    "# Dispatch for `AbstractLattice` objects\n",
    "\n",
    "Since a lot of information about lattice objects is already encoded into their type signature, this signature can be used in dispatch to greatly reduce the number of `if` statements as well as greatly improve the performance of your code.\n",
    "\n",
    "This tutorial aims at providing an overview how to use dispatch for `AbstractLattice` objects as well as giving some examples. It is very much advised to first work through the tutorials for [dispatching on site types ](https://github.com/janattig/LatticePhysics_Tutorials/blob/master/basics/sites_bonds/site_dispatch.ipynb) and [dispatching on bond types](https://github.com/janattig/LatticePhysics_Tutorials/blob/master/basics/sites_bonds/bond_dispatch.ipynb) as well as [dispatching on unitcell types](https://github.com/janattig/LatticePhysics_Tutorials/blob/master/basics/unitcells/unitcell_dispatch.ipynb). Also, fundamental knowledge about how lattices work should be present.\n",
    "\n",
    "Since the required tutorials explain dispatch in greater detail, this tutorial will mainly focus on examples. Also note, that for the sake of simple examples, this tutorial will use pre-implemented unitcells from `LatPhysUnitcellLibrary` as well as lattices built with `LatPhysLatticeConstruction`."
   ]
  },
  {
   "cell_type": "code",
   "execution_count": null,
   "metadata": {},
   "outputs": [],
   "source": [
    "using LatPhysBase\n",
    "using LatPhysUnitcellLibrary\n",
    "using LatPhysLatticeConstruction"
   ]
  },
  {
   "cell_type": "markdown",
   "metadata": {},
   "source": [
    "# Examples\n",
    "\n",
    "Let's discuss some applications in the following\n",
    "\n",
    "\n",
    "### Example 1 - Plotting\n",
    "\n",
    "Suppose, we want to write a plotting backend for plotting lattices in the plotting package of our choice. In this case we might consider writing a unified syntax for all sorts of lattices, i.e. one could define a `plotLattice` function instead of two `plotLattice2D` and `plotLattice3D` functions. Also, dispatch has to be used to make sure that only the lattices in the correct spatial dimension are passed into the respective function.\n",
    "\n",
    "To make the spatial dimension accessible within the plotting function, we use the same type of syntax as before, the\n",
    "    \n",
    "    where {...,D,S<:AbstractSite{.,D}, ..., L<:AbstractLattice{S,...}}\n",
    "    \n",
    "type of syntax. In this way, we can refer to `D` within our function. Similarly, we can set `D` to a definite value in the function header, e.g. to `D=2` as  \n",
    "\n",
    "    where {...,S<:AbstractSite{.,2}, ..., L<:AbstractLattice{S,...}}\n",
    "\n",
    "\n",
    "\n",
    "##### Fallback\n",
    "\n",
    "Let us start by writing the fallback function with the common syntax `plotLattice`, i.e. the function that is called when no specialised function is found. We want to function to be called whenever a lattice should be plotted in a dimension `D` for which no plotting tools are implemented yet."
   ]
  },
  {
   "cell_type": "code",
   "execution_count": null,
   "metadata": {},
   "outputs": [],
   "source": [
    "# Fallback for plotting\n",
    "function plotLattice(\n",
    "        lattice :: L\n",
    "    ) where {LS,D,S<:AbstractSite{LS,D},B,U,L<:AbstractLattice{S,B,U}}\n",
    "    \n",
    "    error(\"Requested plotting d=\"*string(D)*\" which is not implemented yet\")\n",
    "end"
   ]
  },
  {
   "cell_type": "markdown",
   "metadata": {},
   "source": [
    "##### Applications`D=2` and `D=3`\n",
    "\n",
    "For the cases of 2d plotting and 3d plotting, there are many pre-defined functions available, so let's suppose we use those to implement lattice plotting. In the following we will add one method to the `plotLattice` function, which targets the `D=2` case. For educational purposes, the `D=3` will count as *not implemented* (although it might be easily implemented). "
   ]
  },
  {
   "cell_type": "code",
   "execution_count": null,
   "metadata": {},
   "outputs": [],
   "source": [
    "# Fallback for D=2\n",
    "function plotLattice(\n",
    "        lattice :: L\n",
    "    ) where {LS,S<:AbstractSite{LS,2},B,U,L<:AbstractLattice{S,B,U}}\n",
    "    \n",
    "    println(\"Two dimensional plotting requested\")\n",
    "end"
   ]
  },
  {
   "cell_type": "markdown",
   "metadata": {},
   "source": [
    "##### Testing the implementation\n",
    "\n",
    "Now, let us test the implementation by trying to plot both a 2D and a 3D lattice."
   ]
  },
  {
   "cell_type": "code",
   "execution_count": null,
   "metadata": {},
   "outputs": [],
   "source": [
    "# generating 2D honeycomb lattice\n",
    "uc = getUnitcellHoneycomb()\n",
    "lt = getLatticeByBondDistance(uc, 5)\n",
    "\n",
    "# plotting 2D -- success\n",
    "plotLattice(lt)"
   ]
  },
  {
   "cell_type": "code",
   "execution_count": null,
   "metadata": {},
   "outputs": [],
   "source": [
    "# generating 3D cubic lattice\n",
    "uc = getUnitcellCubic()\n",
    "lt = getLatticeByBondDistance(uc, 5)\n",
    "\n",
    "# plotting 3D -- error from fallback\n",
    "plotLattice(lt)"
   ]
  },
  {
   "cell_type": "code",
   "execution_count": null,
   "metadata": {},
   "outputs": [],
   "source": []
  }
 ],
 "metadata": {
  "@webio": {
   "lastCommId": "a67d58632f0846208d346d0e0b846a6f",
   "lastKernelId": "65c5169c-54ae-4c60-9798-7052224c4654"
  },
  "kernelspec": {
   "display_name": "Julia 1.0.0",
   "language": "julia",
   "name": "julia-1.0"
  },
  "language_info": {
   "file_extension": ".jl",
   "mimetype": "application/julia",
   "name": "julia",
   "version": "1.0.0"
  }
 },
 "nbformat": 4,
 "nbformat_minor": 2
}
