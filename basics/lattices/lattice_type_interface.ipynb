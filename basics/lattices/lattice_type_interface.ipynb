{
 "cells": [
  {
   "cell_type": "markdown",
   "metadata": {},
   "source": [
    "# Type structure and interface of lattice objects\n",
    "\n",
    "The most defining feature of a **lattice** is the regular arrangement of **sites**, connected by **bonds** that are defined in **unitcells**. Lattices are considered objects with a finite extent in real space in the context of `LatticePhysics.jl`. They are represented by their own type, equipped with an abstract supertype as well as a shared interface.\n",
    "\n",
    "The following tutorial aims on providing an overview over the type hierachy of lattices, introducing the abstract type `AbstractLattice`, as well as discussing the interface functions for this abstract type by showing examples for the concrete struct `Lattice`.\n",
    "\n",
    "It is advised to be already familiar with the type structure of [unitcells](https://github.com/janattig/LatticePhysics_Tutorials/blob/master/basics/unitcells/unitcell_type_interface.ipynb), [sites](https://github.com/janattig/LatticePhysics_Tutorials/blob/master/basics/sites_bonds/site_type_interface.ipynb) and [bonds](https://github.com/janattig/LatticePhysics_Tutorials/blob/master/basics/sites_bonds/bond_type_interface.ipynb), as `AbstractLattice` will be parametric in these types.\n"
   ]
  },
  {
   "cell_type": "code",
   "execution_count": null,
   "metadata": {},
   "outputs": [],
   "source": [
    "using LatPhysBase"
   ]
  },
  {
   "cell_type": "markdown",
   "metadata": {},
   "source": [
    "### Abstract type `AbstractLattice{S,B,U}`\n",
    "\n",
    "The abstract type that is supertype to all lattice implementations is `AbstractLattice`, parametric in three parameters `S`, `B` and `U`. These three parameters are the site type `S`, subtype of `AbstractSite` and the bond type `B`, subtype of `AbstractBond`, as well as the unitcell type `U` of the unitcell that was the building block of the lattice. Note that `U` is subtype of `AbstractUnitcell` and therefore is by itself parametric in two types `SU` and `BU` which are site and bond type of the unitcell respectively and can be different from `S` and `B` (of the lattice).\n",
    "\n",
    "As the lattice type is parametric in these three types already, it is possible to dispatch lattice objects based on\n",
    "- real space dimension\n",
    "- Bravais lattice dimension\n",
    "- label types of sites and bonds\n",
    "\n",
    "This dispatch behavior allows for a compact but yet powerful solution in unifying syntax, e.g. `plotLattice` instead of two functions `plotLattice2D` and `plotLattice3D`."
   ]
  },
  {
   "cell_type": "code",
   "execution_count": null,
   "metadata": {},
   "outputs": [],
   "source": [
    "# this is a correct suptyping of lattice types\n",
    "AbstractLattice{ Site{String,2}, Bond{String,2}, Unitcell{Site{Float64,2}, Bond{Float64,2}} } <: AbstractLattice"
   ]
  },
  {
   "cell_type": "markdown",
   "metadata": {},
   "source": [
    "More on dispatch can be found in the dispatch [examples](https://github.com/janattig/LatticePhysics_Tutorials/blob/master/basics/lattices/lattice_dispatch.ipynb) for lattices. Note that in practice, the precise type structure of a lattice object is close to never of importance, it only plays a role in dispatch.\n",
    "\n",
    "### Concrete type `Lattice{S,B} <: AbstractLattice{S,B}`\n",
    "\n",
    "For all explicit lattice objects, a concrete lattice type is needed. Although every user could in principle implement its own concrete lattice type, a default implementation is provided within `LatticePhysics.jl`, the `mutable struct Lattice` implementation.\n",
    "\n",
    "`Lattice` should be regarded as a subtype of `AbstractLattice` and can therefore be instatiated so it should be used whenever a concrete implementation is needed, i.e. whenever objects are created."
   ]
  },
  {
   "cell_type": "code",
   "execution_count": null,
   "metadata": {},
   "outputs": [],
   "source": [
    "Lattice{ Site{String,2}, Bond{String,2}, Unitcell{Site{Float64,2}, Bond{Float64,2}} } <: AbstractLattice{ Site{String,2}, Bond{String,2}, Unitcell{Site{Float64,2}, Bond{Float64,2}}}"
   ]
  },
  {
   "cell_type": "markdown",
   "metadata": {},
   "source": [
    "Note: Despite seemingly being fixed to constructing objects of concrete type `Lattice{ Site{.}, Bond{.}, Unitcell{.} }`, the parametrization of `Lattice` allows for custom site and bond types to be inserted instead. For a user defined site type `MySite{L,D} <: AbstractSite{L,D}` (which might store more information than position and label), the type `Lattice{ MySite{.}, Bond{.}, Unitcell{.} }` can be constructed!\n",
    "\n",
    "\n",
    "\n",
    "\n",
    "### Interface of `AbstractLattice` - how to access information correctly\n",
    "\n",
    "In order to gain a benefit from having an abstract supertype `AbstractLattice`, one has to define a common interface that all concrete lattice types that are subtype of `AbstractLattice` have to implement. Then one can simply call this interface for a given (but unknown) lattice object that is subtype of `AbstractLattice` and rely on getting the correct results.\n",
    "\n",
    "The interface of `AbstractLattice` contains various functions, which are explained in the following. Note, that nearly all functions are identical to the `AbstractUnitcell` interface, with a few small exceptions to take the differences of lattices and unitcells into account.\n",
    "\n",
    "\n",
    "##### 1. The constructor\n",
    "\n",
    "The constructor interface is used to create new objects of a specified lattice type. It is therefore demanding to pass the type explicitly, as well as further information regarding the lattice. \n",
    "\n",
    "The constructor syntax is\n",
    "```\n",
    "function newLattice(\n",
    "            ::Type{L},\n",
    "            lattice_vectors :: Vector{<:Vector{<:Real}},\n",
    "            sites           :: Vector{S},\n",
    "            bonds           :: Vector{B},\n",
    "            unitcell        :: U\n",
    "        ) :: L where{...}\n",
    "```\n",
    "This interface is overwritten by the concrete lattice type `Lattice` to\n",
    "```\n",
    "function newLattice(\n",
    "            :: Type{Lattice{S,B,U}},\n",
    "            lattice_vectors :: Vector{<:Vector{<:Real}},\n",
    "            sites           :: Vector{S},\n",
    "            bonds           :: Vector{B},\n",
    "            unitcell        :: U\n",
    "        ) :: Lattice{S,B,U} where {D,N,LS,LB,S<:AbstractSite{LS,D},B<:AbstractBond{LB,N}, SU,BU,U<:AbstractUnitcell{SU,BU}}\n",
    "```\n",
    "\n",
    "\n",
    "*Note: If you want a lattice for your calculations, the chances are high that you will construct a lattice from a unitcell that is already implemented with all site positions and bonds set correctly. For these pre-implemented lattices, check the pre-implemented lattices tutorial ([[notebook](https://github.com/janattig/LatticePhysics_Tutorials/blob/master/basics/lattices/pre-implemented_lattices.ipynb)]). Then, you can use a pre-implemented lattice building routine (like building a periodic LxL lattice) to generate a lattice out of it. More about this can be found in [this tutorial](https://github.com/janattig/LatticePhysics_Tutorials/blob/master/basics/lattices/lattice_building.ipynb)*\n",
    "\n",
    "Using the constructor in constructing a lattice object could work as follows:"
   ]
  },
  {
   "cell_type": "code",
   "execution_count": null,
   "metadata": {},
   "outputs": [],
   "source": [
    "# list of sites\n",
    "site_list = Site{String,2}[\n",
    "    newSite(Site{String,2}, [0,0], \"mysite\"),\n",
    "    newSite(Site{String,2}, [0.5,0.5], \"myothersite\")\n",
    "]\n",
    "\n",
    "# list of bonds\n",
    "bond_list = Bond{String,2}[\n",
    "    newBond(Bond{String,2}, 1, 2, \"mybond\", (1,0)),\n",
    "    newBond(Bond{String,2}, 2, 1, \"mybond\", (-1,0)),\n",
    "    newBond(Bond{String,2}, 1, 2, \"mybond\", (0,1)),\n",
    "    newBond(Bond{String,2}, 2, 1, \"mybond\", (0,-1)),\n",
    "    newBond(Bond{String,2}, 1, 2, \"mybond\", (1,1)),\n",
    "    newBond(Bond{String,2}, 2, 1, \"mybond\", (1,-1))\n",
    "]\n",
    "\n",
    "# list of lattice vectors\n",
    "lattice_vectors = Vector{Float64}[\n",
    "        Float64[1, 0],\n",
    "        Float64[0, 1]\n",
    "    ]\n",
    "\n",
    "# construct the unitcell\n",
    "uc = newUnitcell(\n",
    "    Unitcell{Site{String,2},Bond{String,2}},\n",
    "    lattice_vectors,\n",
    "    site_list,\n",
    "    bond_list\n",
    ")\n",
    "\n",
    "\n",
    "\n",
    "\n",
    "# construct the lattice (using the same sites and bonds, i.e. a 1x1 lattice)\n",
    "lt = newLattice(\n",
    "    Lattice{Site{String,2},Bond{String,2},Unitcell{Site{String,2},Bond{String,2}}},\n",
    "    lattice_vectors,\n",
    "    site_list,\n",
    "    bond_list,\n",
    "    uc\n",
    ")"
   ]
  },
  {
   "cell_type": "markdown",
   "metadata": {},
   "source": [
    "##### 2. Setter and getter of sites, bonds and lattice vectors\n",
    "\n",
    "The basic type of information contained in lattices is\n",
    "- list of sites\n",
    "- list of bonds\n",
    "- Bravais lattice vectors\n",
    "- unitcell\n",
    "\n",
    "There are interface functions for the lattice as setters and getters for these fields which differ in definition by a `!` to pronounce the similarity in language. Syntax is of the structure\n",
    "```\n",
    "julia> field = getter(lattice)\n",
    "\n",
    "julia> setter!(lattice, field)\n",
    "```\n",
    "for examples, see below.\n",
    "\n",
    "Note: As these functions are part of the lattice interface, they have to be implemented for each concrete type explicitly."
   ]
  },
  {
   "cell_type": "code",
   "execution_count": null,
   "metadata": {},
   "outputs": [],
   "source": [
    "# get list of all sites of the lattice\n",
    "site_list = sites(lt)\n",
    "\n",
    "# set the complete list of sites of the lattice\n",
    "sites!(lt, site_list)"
   ]
  },
  {
   "cell_type": "code",
   "execution_count": null,
   "metadata": {},
   "outputs": [],
   "source": [
    "# get list of all bonds of the lattice\n",
    "bond_list = bonds(lt)\n",
    "\n",
    "# set the complete list of bonds of the lattice\n",
    "bonds!(lt, bond_list)"
   ]
  },
  {
   "cell_type": "code",
   "execution_count": null,
   "metadata": {},
   "outputs": [],
   "source": [
    "# get the list of all lattice vectors of the Bravais lattice\n",
    "lv = latticeVectors(lt)\n",
    "\n",
    "# set the Bravais lattice vectors\n",
    "latticeVectors!(lt, lv)"
   ]
  },
  {
   "cell_type": "code",
   "execution_count": null,
   "metadata": {},
   "outputs": [],
   "source": [
    "# get the unitcell\n",
    "uc = unitcell(lt)\n",
    "\n",
    "# set the unitcell\n",
    "unitcell!(lt, uc)"
   ]
  },
  {
   "cell_type": "markdown",
   "metadata": {},
   "source": [
    "##### 3. Wrapper of sites and bonds for direct access\n",
    "\n",
    "In many cases, one is interested in individual properties of the site and bond list respectively. For this purpose, short hand notation is defined on the level of `AbstractLattice`, s.t. it calls interface functions which had to be defined by the user. Therefore, this short hand notation does not have to be overwritten by each concrete type.\n",
    "\n",
    "The short hand notation for sites and bonds contains\n",
    "- functions to access the number of sites and bonds (e.g. for boundaries of for loops)\n",
    "- getter for the i-th site or bond without obtaining the complete site or bond list"
   ]
  },
  {
   "cell_type": "code",
   "execution_count": null,
   "metadata": {},
   "outputs": [],
   "source": [
    "# number of sites\n",
    "println(\"lattice has \",  numSites(lt),  \" site(s)\")\n",
    "\n",
    "# number of bonds\n",
    "println(\"lattice has \",  numBonds(lt),  \" bond(s)\")"
   ]
  },
  {
   "cell_type": "code",
   "execution_count": null,
   "metadata": {},
   "outputs": [],
   "source": [
    "# get site 1\n",
    "println(  site(lt, 1)  )\n",
    "\n",
    "# get bond 3\n",
    "println(  bond(lt, 3)  )"
   ]
  },
  {
   "cell_type": "markdown",
   "metadata": {},
   "source": [
    "##### 4. Bond list organized by origin / destination site\n",
    "\n",
    "In some cases when an application needs bonds specifically connected to a certain site, having all bonds in one single list is not efficient. In these cases it might be easier to work with an ordered version of the bond list. This version is not a list of bonds, but rather a list of lists of bonds, where the `i`-th list either contains bonds terminating or originating from site `i`.\n",
    "\n",
    "The functions to generate these lists are implemented on the `AbstractLattice` level again, i.e. only call interface functions and therefore are not needed to be implemented for every concrete type specifically.\n",
    "\n",
    "For usage, see the examples below:"
   ]
  },
  {
   "cell_type": "code",
   "execution_count": null,
   "metadata": {},
   "outputs": [],
   "source": [
    "# get a list of all bonds, sorted by origin site\n",
    "organizedBondsFrom(lt)"
   ]
  },
  {
   "cell_type": "code",
   "execution_count": null,
   "metadata": {},
   "outputs": [],
   "source": [
    "# get a list of all bonds, sorted by destination site\n",
    "organizedBondsTo(lt)"
   ]
  },
  {
   "cell_type": "markdown",
   "metadata": {},
   "source": [
    "##### 5. Direct access to certain Bravais lattice vectors\n",
    "\n",
    "If one wants to directly access the Bravais lattice vectors individually, one can use the short hand notation getters `a1`, `a2`, `a3` to do so. These functions are simple wrappers of the form `ai(lt) = latticeVectors(lt)[i]` and work as demonstrated in the examples below.\n",
    "\n",
    "These functions are again implemented using interface functions so that they dont have to be overwritten for every concrete site."
   ]
  },
  {
   "cell_type": "code",
   "execution_count": null,
   "metadata": {},
   "outputs": [],
   "source": [
    "# get the first Bravais lattice vector\n",
    "a1(lt)"
   ]
  }
 ],
 "metadata": {
  "@webio": {
   "lastCommId": "7994c1e93d8745f08fae15c33c5b5df0",
   "lastKernelId": "822c3cc2-945f-4d48-8c4a-b85719802257"
  },
  "kernelspec": {
   "display_name": "Julia 1.0.0",
   "language": "julia",
   "name": "julia-1.0"
  },
  "language_info": {
   "file_extension": ".jl",
   "mimetype": "application/julia",
   "name": "julia",
   "version": "1.0.0"
  }
 },
 "nbformat": 4,
 "nbformat_minor": 2
}
