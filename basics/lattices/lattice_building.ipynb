{
 "cells": [
  {
   "cell_type": "markdown",
   "metadata": {},
   "source": [
    "# Building lattices from unitcells\n",
    "\n",
    "For most lattice based calculations, a `Lattice` object is needed that has to be constructed at some point to deliver the lattice connectivity information. Usually, the preceiding step is to obtain the lattice geometry in form of a `Unitcell` object, which is usually obtained from a pre-implemented unitcell. Details on how to obtain the unitcell can be found in [this tutorial](https://github.com/janattig/LatticePhysics_Tutorials/blob/master/basics/unitcells/pre-implemented_unitcells.ipynb).\n",
    "\n",
    "The following tutorial aims on providing an understanding how to transform the periodic unitcell into a finitely extended lattice ob a desired shape and periodicity. For this purpose exists a subpackage of `LatticePhysics`, called `LatPhysLatticeConstruction` in which all lattice constructing routines are collected."
   ]
  },
  {
   "cell_type": "code",
   "execution_count": null,
   "metadata": {},
   "outputs": [],
   "source": [
    "using LatPhysBase\n",
    "using LatPhysUnitcellLibrary\n",
    "using LatPhysLatticeConstruction"
   ]
  },
  {
   "cell_type": "markdown",
   "metadata": {},
   "source": [
    "### Reminder: Obtaining unitcells\n",
    "\n",
    "As a brief reminder and a basis for the following tutorial, let us get two unitcells from the pre-implemented collection - a 2d and a 3d unitcell. These unitcells are used in the following to construct lattices."
   ]
  },
  {
   "cell_type": "code",
   "execution_count": null,
   "metadata": {},
   "outputs": [],
   "source": [
    "# 2D unitcell is honeycomb\n",
    "unitcell_2d = getUnitcellHoneycomb(4);\n",
    "\n",
    "# 3D unitcell is pyrochlore\n",
    "unitcell_3d = getUnitcellPyrochlore(1);"
   ]
  },
  {
   "cell_type": "markdown",
   "metadata": {},
   "source": [
    "### Overview over lattice construction routines\n",
    "\n",
    "The module `LatPhysLatticeConstruction` has various pre-implemented routines for building lattices. These include\n",
    "- lattices from regular patterns with different boundary conditions\n",
    "- lattices built by bond distance from an origin site\n",
    "- lattices built within a given shape in real space\n",
    "\n",
    "The following sections will explain the relevant functions in greater detail.\n",
    "\n",
    "\n",
    "### Periodic lattices\n",
    "\n",
    "The most abundant shape of lattices is a regular arrangement of unitcells with periodic boundary conditions. These lattices are characterized by their linear extent in different Bravais lattice directions. To construct such lattices, one can use the function\n",
    "```\n",
    "function getLatticePeriodic(\n",
    "        unitcell :: U,\n",
    "        extent   :: NTuple{N,Int64}\n",
    "    ) :: Lattice{S,B,U} where {N,LB,B<:AbstractBond{LB,N},S,U<:AbstractUnitcell{S,B}}\n",
    "```\n",
    "as seen in the following examples"
   ]
  },
  {
   "cell_type": "code",
   "execution_count": null,
   "metadata": {},
   "outputs": [],
   "source": [
    "# construct a 2D lattice which is 5x10 unitcells in size\n",
    "getLatticePeriodic(unitcell_2d, (5,10))"
   ]
  },
  {
   "cell_type": "code",
   "execution_count": null,
   "metadata": {},
   "outputs": [],
   "source": [
    "# construct a 3D lattice which is 5x2x3 unitcells in size\n",
    "getLatticePeriodic(unitcell_3d, (5,2,3))"
   ]
  },
  {
   "cell_type": "markdown",
   "metadata": {},
   "source": [
    "##### Periodic lattices of equal linear extent L\n",
    "\n",
    "Since in many cases one is interested in a lattice of size LxLxL..., there is a short hand notation introduced by\n",
    "```\n",
    "function getLatticePeriodic(\n",
    "        unitcell :: U,\n",
    "        extent   :: Int64\n",
    "    ) :: Lattice{S,B,U} where {N,LB,B<:AbstractBond{LB,N},S,U<:AbstractUnitcell{S,B}}\n",
    "```\n",
    "which simply calls the aforementioned function respectively."
   ]
  },
  {
   "cell_type": "code",
   "execution_count": null,
   "metadata": {},
   "outputs": [],
   "source": [
    "# construct a 2D lattice which is 7x7 unitcells in size\n",
    "getLatticePeriodic(unitcell_2d, 7)"
   ]
  },
  {
   "cell_type": "code",
   "execution_count": null,
   "metadata": {},
   "outputs": [],
   "source": [
    "# construct a 3D lattice which is 4x4x4 unitcells in size\n",
    "getLatticePeriodic(unitcell_3d, 4)"
   ]
  },
  {
   "cell_type": "markdown",
   "metadata": {},
   "source": [
    "##### Periodic lattices for lattices with an explicit type signature\n",
    "\n",
    "Similar to how pre-implemented unitcells have a dispatch tree in the background, all lattice construction related functions have a similar dispatch tree as well. In general, there is a common syntax for function names which reroute among themselves and encapsulate information.\n",
    "\n",
    "Most of the core functions are on the footing of abstract types. In this case, there is a core function `getLatticePeriodic` which needs not only the unitcell and extent information, but also the lattice type (subtype of `AbstractLattice`) to determine which lattice type to build. The function syntax is\n",
    "```\n",
    "function getLatticePeriodic(\n",
    "        :: Type{L},\n",
    "        unitcell :: U,\n",
    "        extent   :: Int64\n",
    "    ) :: L where {N,LB,B<:AbstractBond{LB,N},S,U<:AbstractUnitcell{S,B},SL,BL,L<:AbstractLattice{SL,BL,U}}\n",
    "```\n",
    "The aforementioned functions are solely wrappers around this core function and feed it the default lattice implementation `Lattice` in the desired type structure. \n",
    "\n",
    "If one wants to use this explicity type signature function nevertheless (e.g. in case one has a custom lattice type), than a suitable example would look like"
   ]
  },
  {
   "cell_type": "code",
   "execution_count": null,
   "metadata": {},
   "outputs": [],
   "source": [
    "# construct a 10x5 periodic 2d lattice with explicit type\n",
    "lt = getLatticePeriodic(\n",
    "    Lattice{Site{Int64,2}, Bond{Int64,2}, Unitcell{Site{Int64,2},Bond{Int64,2}}},\n",
    "    unitcell_2d,\n",
    "    (10,5)\n",
    ")"
   ]
  },
  {
   "cell_type": "markdown",
   "metadata": {},
   "source": [
    "### Lattices built by bond distance\n",
    "\n",
    "In some cases one is interested in a finite cluster of sites that span by bond distance around an origin site. These lattice building functions are summarized under the syntax `getLatticeByBondDistance`.\n",
    "\n",
    "The function syntax is the following:\n",
    "```\n",
    "function getLatticeByBondDistance(\n",
    "        unitcell     :: U,\n",
    "        bonddistance :: Integer,\n",
    "        origin       :: Integer = 1\n",
    "    ) :: Lattice{S,Bond{LB,0},U} where {N,LB,B<:AbstractBond{LB,N},S,U<:AbstractUnitcell{S,B}}\n",
    "```\n",
    "\n",
    "Note that one only needs a unitcell, the desired bond distance up to which the lattice is constructed, as well as the starting site within the unitcell (as an optional parameter).\n",
    "\n",
    "Examples are"
   ]
  },
  {
   "cell_type": "code",
   "execution_count": null,
   "metadata": {},
   "outputs": [],
   "source": [
    "# construct a lattice up to bond distance 15 in 2D\n",
    "lt = getLatticeByBondDistance(unitcell_2d, 15)"
   ]
  },
  {
   "cell_type": "code",
   "execution_count": null,
   "metadata": {},
   "outputs": [],
   "source": [
    "# construct a lattice up to bond distance 15 in 2D originating from site 2 of the unitcell\n",
    "lt = getLatticeByBondDistance(unitcell_2d, 15, 2)"
   ]
  },
  {
   "cell_type": "code",
   "execution_count": null,
   "metadata": {},
   "outputs": [],
   "source": [
    "# construct a lattice up to bond distance 10 in 3D\n",
    "lt = getLatticeByBondDistance(unitcell_3d, 10)"
   ]
  },
  {
   "cell_type": "markdown",
   "metadata": {},
   "source": [
    "##### Lattices by bond distance with an explicit type signature\n",
    "\n",
    "Similar to periodic lattices, lattice building by bond distance also comes with a general interface in which a lattice type (subtype of `AbstractLattice`) can be used explicitly. The function syntax is\n",
    "```\n",
    "function getLatticeByBondDistance\n",
    "        :: Type{L},\n",
    "        unitcell     :: U,\n",
    "        bonddistance :: Integer,\n",
    "        origin       :: Integer = 1\n",
    "    ) :: L where {N,LB,B<:AbstractBond{LB,0},S,U<:AbstractUnitcell{S,B},SL,BL,L<:AbstractLattice{SL,BL,U}}\n",
    "```\n",
    "The aforementioned functions are solely wrappers around this core function and feed it the default lattice implementation `Lattice` in the desired type structure. Again, if one wants to use this explicity type signature function nevertheless (e.g. in case one has a custom lattice type), than a suitable example would look like"
   ]
  },
  {
   "cell_type": "code",
   "execution_count": null,
   "metadata": {},
   "outputs": [],
   "source": [
    "# construct a lattice up to bond distance 8 in 2D with explicit lattice type\n",
    "lt = getLatticeByBondDistance(\n",
    "    Lattice{Site{Int64,2}, Bond{Int64,0}, Unitcell{Site{Int64,2},Bond{Int64,2}}},\n",
    "    unitcell_2d,\n",
    "    8\n",
    ")"
   ]
  },
  {
   "cell_type": "markdown",
   "metadata": {},
   "source": [
    "### Lattices built inside a given shape\n",
    "\n",
    "Mostly for plotting purposes, there is yet another convinient way to generate a lattice - building it inside a given shape, spreading outward from an origin site. This way of generating lattices results in a lattice which is a wanted shape (e.g. a rectangle or box) and which can be plotted very nicely. However, the lattice again has open boundary conditions, i.e. no periodic directions.\n",
    "\n",
    "Building inside a given very general shape can be accomplished with the function\n",
    "```\n",
    "function getLatticeInShape(\n",
    "        unitcell :: U,\n",
    "        shape    :: Function,\n",
    "        origin   :: Integer = 1\n",
    "    ) :: Lattice{S,Bond{LB,0},U} where {N,LB,B<:AbstractBond{LB,N},S,U<:AbstractUnitcell{S,B}}\n",
    "\n",
    "```\n",
    "where `shape` is a function that returns a `Bool` for any input coordinate vector to determine if this coordinate is still inside the desired shape. To illustrate, look at the example (in 2d) below that constructs a lattice within a sphere"
   ]
  },
  {
   "cell_type": "code",
   "execution_count": null,
   "metadata": {},
   "outputs": [],
   "source": [
    "# shape function of the sphere in 2D: is the point inside the circle with radius 3.0 or not\n",
    "shape(position :: Vector{Float64}) = sum(position.*position) < 3.0*3.0\n",
    "\n",
    "# build the lattice inside this shape\n",
    "lt = getLatticeInShape(unitcell_2d, shape)"
   ]
  },
  {
   "cell_type": "markdown",
   "metadata": {},
   "source": [
    "##### Special shape 1 - sphere\n",
    "\n",
    "A very common special shape is a sphere. For building a lattice inside a sphere, there exists a wrapper function around the general shape building function with the syntax\n",
    "```\n",
    "function getLatticeInSphere(\n",
    "        unitcell   :: U,\n",
    "        radius     :: Real,\n",
    "        center     :: Vector{<:Real},\n",
    "        origin     :: Integer = 1\n",
    "    ) :: Lattice{S,Bond{LB,0},U} where {N,LB,B<:AbstractBond{LB,N},S,U<:AbstractUnitcell{S,B}}\n",
    "```\n",
    "where one simply has to pass the radius and center of the sphere respectively. Note that `origin` refers to the building origin of the lattice whereas `center` determines the shapes center."
   ]
  },
  {
   "cell_type": "code",
   "execution_count": null,
   "metadata": {},
   "outputs": [],
   "source": [
    "# build a 2d lattice inside a circle of radius 3 around [0,0]\n",
    "lt = getLatticeInSphere(unitcell_2d, 3, [0,0])"
   ]
  },
  {
   "cell_type": "code",
   "execution_count": null,
   "metadata": {},
   "outputs": [],
   "source": [
    "# build a 3d lattice inside a sphere of radius 3 around [0,0,0]\n",
    "lt = getLatticeInSphere(unitcell_3d, 3, [0,0,0])"
   ]
  },
  {
   "cell_type": "markdown",
   "metadata": {},
   "source": [
    "##### Special shape 2 - box\n",
    "\n",
    "Another very common shape (especially for plotting) is the shape of a box (or rectangle in 2d). There is a pre-implemented function that generates lattices inside a box with the syntax\n",
    "```\n",
    "function getLatticeInBox(\n",
    "        unitcell   :: U,\n",
    "        dimensions :: Vector{<:Real},\n",
    "        center     :: Vector{<:Real},\n",
    "        origin     :: Integer = 1\n",
    "    ) :: Lattice{S,Bond{LB,0},U} where {N,LB,B<:AbstractBond{LB,N},S,U<:AbstractUnitcell{S,B}}\n",
    "```\n",
    "where `dimensions` refers to the extent in real space units along principal real space axis (and *not* unitcell Bravais lattice vectors). Further, note again that `origin` refers to the building origin of the lattice whereas `center` determines the shapes center."
   ]
  },
  {
   "cell_type": "code",
   "execution_count": null,
   "metadata": {},
   "outputs": [],
   "source": [
    "# build a 2d lattice in a box of dimension 10x7 around [0,0]\n",
    "lt = getLatticeInBox(unitcell_2d, [10,7], [0,0])"
   ]
  },
  {
   "cell_type": "code",
   "execution_count": null,
   "metadata": {},
   "outputs": [],
   "source": [
    "# build a 3d lattice in a box of dimension 5x3x7 around [0,0,0]\n",
    "lt = getLatticeInBox(unitcell_2d, [5,3,7], [0,0,0])"
   ]
  }
 ],
 "metadata": {
  "@webio": {
   "lastCommId": "1281d34ff5a9439d8b7f0a4f448440ee",
   "lastKernelId": "3b9b816b-7683-4573-aa3b-3b7d06281f1b"
  },
  "kernelspec": {
   "display_name": "Julia 1.0.0",
   "language": "julia",
   "name": "julia-1.0"
  },
  "language_info": {
   "file_extension": ".jl",
   "mimetype": "application/julia",
   "name": "julia",
   "version": "1.0.0"
  }
 },
 "nbformat": 4,
 "nbformat_minor": 2
}
