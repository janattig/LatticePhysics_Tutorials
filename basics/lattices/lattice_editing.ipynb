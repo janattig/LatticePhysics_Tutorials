{
 "cells": [
  {
   "cell_type": "markdown",
   "metadata": {},
   "source": [
    "# Editing lattices (and unitcells)\n",
    "\n",
    "In the following tutorial, we will discuss the possibilities of editing lattices with pre-implemented functions after they have been constructed. Most common operations will include the addition and removal of sites, as well as filtering of bonds.\n",
    "\n",
    "Requirements for this tutorial include knowledge about sites and bonds as well as knowledge about lattices.\n",
    "\n",
    "Furthermore, this tutorial will use pre-implemented lattice building and unitcells to speed up the lattice generation process. Also, it will include plotting with `PyPlot` to visualize the changes in lattice geometry.\n",
    "\n",
    "Before starting the tutorial, it should be noted, that all functions that are discussed in the context of lattices also have an implementation for unitcells, i.e. can be accessed in the same way."
   ]
  },
  {
   "cell_type": "code",
   "execution_count": null,
   "metadata": {},
   "outputs": [],
   "source": [
    "using LatPhysBase\n",
    "using LatPhysUnitcellLibrary\n",
    "using LatPhysLatticeConstruction\n",
    "using LatPhysLatticeModification\n",
    "using LatPhysPlottingPyPlot\n",
    "using PyPlot; pygui(false);"
   ]
  },
  {
   "cell_type": "markdown",
   "metadata": {},
   "source": [
    "# 1 - Adding sites and bonds\n",
    "\n",
    "### Adding Sites\n",
    "\n",
    "Let us start the tutorial by discussing the option of adding sites to a given unitcell. First of all, consider the square lattice in 2d which looks as follows:"
   ]
  },
  {
   "cell_type": "code",
   "execution_count": null,
   "metadata": {},
   "outputs": [],
   "source": [
    "# construct the square lattice\n",
    "uc = getUnitcellSquare()\n",
    "lt = getLatticeOpen(uc, 4)\n",
    "\n",
    "# plot the lattice\n",
    "plotLattice(lt);"
   ]
  },
  {
   "cell_type": "markdown",
   "metadata": {},
   "source": [
    "Now, let us add another site to the lattice. This site can be either added directly to the site list of the lattice (which requires an `AbstractSite` object to be present), or it can be added by a short hand function for lattices and unitcells which does not require a type but uses the same site type that the lattice uses."
   ]
  },
  {
   "cell_type": "code",
   "execution_count": null,
   "metadata": {},
   "outputs": [],
   "source": [
    "# construct the square lattice\n",
    "uc = getUnitcellSquare()\n",
    "lt = getLatticeOpen(uc, 4)\n",
    "\n",
    "# add a new site\n",
    "addSite!(lt, [1.5, 2.5], 42)\n",
    "\n",
    "# plot the lattice\n",
    "plotLattice(lt);"
   ]
  },
  {
   "cell_type": "markdown",
   "metadata": {},
   "source": [
    "This new site is not connected to anything yet, so new bonds have to be added as well.\n",
    "\n",
    "### Adding bonds\n",
    "\n",
    "Adding bonds can be done with a similar short hand syntax. In the following, this is demonstrated on the same example. Note that for simplicity, the sites are labeled by their index in the lattice so that the site indices in bond creation become clear.\n",
    "\n",
    "Note that the short hand function for adding bonds also takes care of the returning bonds, i.e. it not only adds a bond from site `i` to site `j` but also a corresponding bond from site `j` to site `i` (if not specified otherwise)."
   ]
  },
  {
   "cell_type": "code",
   "execution_count": null,
   "metadata": {
    "scrolled": false
   },
   "outputs": [],
   "source": [
    "# construct the square lattice\n",
    "uc = getUnitcellSquare()\n",
    "lt = getLatticeOpen(uc, 4)\n",
    "\n",
    "# relabel site labels to site index\n",
    "for s in 1:numSites(lt)\n",
    "    label!(site(lt,s), s)\n",
    "end\n",
    "\n",
    "\n",
    "# add a new site\n",
    "new_index = addSite!(lt, [1.5, 2.5], 42)\n",
    "\n",
    "\n",
    "# add new bonds\n",
    "\n",
    "# use default label & no wrap & include returning bond (default)\n",
    "addBond!(lt, new_index, 7)\n",
    "# use default label & no wrap & include returning bond (default)\n",
    "addBond!(lt, new_index, 8)\n",
    "# use given label & no wrap & include returning bond (default)\n",
    "addBond!(lt, new_index, 11, 1)\n",
    "# use given label & given wrap & include returning bond explictly\n",
    "addBond!(lt, new_index, 12, 1, NTuple{0,Int64}(), true)\n",
    "\n",
    "# plot the lattice\n",
    "plotLattice(lt);"
   ]
  },
  {
   "cell_type": "markdown",
   "metadata": {},
   "source": [
    "# 2 - Removing sites and bonds\n",
    "\n",
    "### Introduction to removing sites\n",
    "\n",
    "One common operation in editing lattices is to remove sites from the lattice. Whereas the adding of sites did in pricinciple not need an extra function as it could be similarly conducted on the level of the sites list of the lattice, this is no longer the case for removing sites. There are several problems when removing sites from the site list of a lattice (or unitcell):\n",
    "- there are bonds left over which connect to the site although it is removed\n",
    "- the indices of sites change (since one element from the list is missing)\n",
    "\n",
    "Therefore it is not advised to remove sites from the site list explicitly without taking care of these issues but use instead of the of the provided functions.\n",
    "\n",
    "\n",
    "### Removing sites by index\n",
    "\n",
    "The easiest way to specify which sites to remove is by index. One can either remove a single or multiple sites by specifying the indices of these sites respecitively.\n",
    "\n",
    "To demonstrate, let us first again consider the square lattice with sites labeled by index "
   ]
  },
  {
   "cell_type": "code",
   "execution_count": null,
   "metadata": {},
   "outputs": [],
   "source": [
    "# construct the square lattice\n",
    "uc = getUnitcellSquare()\n",
    "lt = getLatticeOpen(uc, 4)\n",
    "\n",
    "# relabel site labels to site index\n",
    "for s in 1:numSites(lt)\n",
    "    label!(site(lt,s), s)\n",
    "end\n",
    "\n",
    "# plot the lattice\n",
    "plotLattice(lt);"
   ]
  },
  {
   "cell_type": "markdown",
   "metadata": {},
   "source": [
    "In the following cells, let us now remove first a single site."
   ]
  },
  {
   "cell_type": "code",
   "execution_count": null,
   "metadata": {},
   "outputs": [],
   "source": [
    "# construct the square lattice\n",
    "uc = getUnitcellSquare()\n",
    "lt = getLatticeOpen(uc, 4)\n",
    "\n",
    "# relabel site labels to site index\n",
    "for s in 1:numSites(lt)\n",
    "    label!(site(lt,s), s)\n",
    "end\n",
    "\n",
    "# remove site 3\n",
    "removeSite!(lt, 3)\n",
    "\n",
    "# plot the lattice\n",
    "plotLattice(lt);"
   ]
  },
  {
   "cell_type": "markdown",
   "metadata": {},
   "source": [
    "Note that despite the labels being still the same after the removal, the internal indices are no longer the same. This is demonstrated by the two print blocks in the following code segments."
   ]
  },
  {
   "cell_type": "code",
   "execution_count": null,
   "metadata": {},
   "outputs": [],
   "source": [
    "# construct the square lattice\n",
    "uc = getUnitcellSquare()\n",
    "lt = getLatticeOpen(uc, 4)\n",
    "\n",
    "# relabel site labels to site index\n",
    "for s in 1:numSites(lt)\n",
    "    label!(site(lt,s), s)\n",
    "end\n",
    "\n",
    "# print header\n",
    "println(\"BEFORE removing site:\")\n",
    "# print site with LABEL 6\n",
    "for s in sites(lt)\n",
    "    if label(s) == 6; println(s) end\n",
    "end\n",
    "# print all bonds that connect to site with LABEL 6\n",
    "for b in bonds(lt)\n",
    "    if label(site(lt,to(b))) == 6; println(b) end\n",
    "end\n",
    "\n",
    "\n",
    "# Remove a single site (not connected to site with label 6)\n",
    "removeSite!(lt, 3)\n",
    "\n",
    "\n",
    "\n",
    "# print header\n",
    "println(\"AFTER removing site:\")\n",
    "# print site with LABEL 6\n",
    "for s in sites(lt)\n",
    "    if label(s) == 6; println(s) end\n",
    "end\n",
    "# print all bonds that connect to site with LABEL 6\n",
    "for b in bonds(lt)\n",
    "    if label(site(lt,to(b))) == 6; println(b) end\n",
    "end\n",
    "\n",
    "# plot the lattice\n",
    "sleep(0.1)\n",
    "plotLattice(lt);"
   ]
  },
  {
   "cell_type": "code",
   "execution_count": null,
   "metadata": {},
   "outputs": [],
   "source": [
    "# construct the square lattice\n",
    "uc = getUnitcellSquare()\n",
    "lt = getLatticeOpen(uc, 4)\n",
    "\n",
    "# relabel site labels to site index\n",
    "for s in 1:numSites(lt)\n",
    "    label!(site(lt,s), s)\n",
    "end\n",
    "\n",
    "# print header\n",
    "println(\"BEFORE removing site:\")\n",
    "# print site with LABEL 6\n",
    "for s in sites(lt)\n",
    "    if label(s) == 6; println(s) end\n",
    "end\n",
    "# print all bonds that connect to site with LABEL 6\n",
    "for b in bonds(lt)\n",
    "    if label(site(lt,to(b))) == 6; println(b) end\n",
    "end\n",
    "\n",
    "\n",
    "# Remove a multiple sites (not connected to site with label 6)\n",
    "removeSite!(lt, 3, 4, 8)\n",
    "\n",
    "\n",
    "\n",
    "# print header\n",
    "println(\"AFTER removing site:\")\n",
    "# print site with LABEL 6\n",
    "for s in sites(lt)\n",
    "    if label(s) == 6; println(s) end\n",
    "end\n",
    "# print all bonds that connect to site with LABEL 6\n",
    "for b in bonds(lt)\n",
    "    if label(site(lt,to(b))) == 6; println(b) end\n",
    "end\n",
    "\n",
    "# plot the lattice\n",
    "sleep(0.1)\n",
    "plotLattice(lt);"
   ]
  },
  {
   "cell_type": "markdown",
   "metadata": {},
   "source": [
    "### Removing sites by other criteria\n",
    "\n",
    "In some occasions, one wants to remove sites by other criteria apart from the site index. In these cases, it is advised to collect a list of site indices by some search and then pass this list to the function."
   ]
  },
  {
   "cell_type": "code",
   "execution_count": null,
   "metadata": {},
   "outputs": [],
   "source": [
    "# construct the square lattice\n",
    "uc = getUnitcellSquare()\n",
    "lt = getLatticeOpen(uc, 4)\n",
    "\n",
    "# relabel site labels to site index\n",
    "for s in 1:numSites(lt)\n",
    "    label!(site(lt,s), s)\n",
    "end\n",
    "\n",
    "\n",
    "# find indices of sites that are located\n",
    "# between in (0.5 < x < 1.5) and (0.5 < y < 2.5)\n",
    "index_list = Int64[]\n",
    "for s in 1:numSites(lt)\n",
    "    if 0.5 < point(site(lt,s))[1] < 1.5 && 0.5 < point(site(lt,s))[2] < 2.5\n",
    "        push!(index_list, s)\n",
    "    end\n",
    "end\n",
    "\n",
    "# remove sites\n",
    "removeSite!(lt, index_list)\n",
    "\n",
    "\n",
    "\n",
    "# plot the lattice\n",
    "plotLattice(lt);"
   ]
  },
  {
   "cell_type": "markdown",
   "metadata": {},
   "source": [
    "### Removing disconnected sites\n",
    "\n",
    "Last but not least, let's discuss the functions for adding all disconnected sites. In large removing operations, one can end up with a lattice that falls into smaller clusters. These clusters form independent chunks of lattice and therefore one might be interested in isolating them from the rest of sites. For this purpose, there exists a function that removes all sites which are not connected to a specified site (which is by default 1).\n",
    "\n",
    "To demonstrate, let us first consider the square lattice and cut it into two pieces bey removing some sites."
   ]
  },
  {
   "cell_type": "code",
   "execution_count": null,
   "metadata": {},
   "outputs": [],
   "source": [
    "# construct the square lattice\n",
    "uc = getUnitcellSquare()\n",
    "lt = getLatticeOpen(uc, 4)\n",
    "\n",
    "# relabel site labels to site index\n",
    "for s in 1:numSites(lt)\n",
    "    label!(site(lt,s), s)\n",
    "end\n",
    "\n",
    "\n",
    "# find indices of sites that are located\n",
    "# between in (y-0.5 < x < y+0.5)\n",
    "index_list = Int64[]\n",
    "for s in 1:numSites(lt)\n",
    "    if point(site(lt,s))[2]-0.5 < point(site(lt,s))[1] < point(site(lt,s))[2]+0.5\n",
    "        push!(index_list, s)\n",
    "    end\n",
    "end\n",
    "\n",
    "# remove sites\n",
    "removeSite!(lt, index_list)\n",
    "\n",
    "\n",
    "\n",
    "# plot the lattice\n",
    "plotLattice(lt);"
   ]
  },
  {
   "cell_type": "markdown",
   "metadata": {},
   "source": [
    "As one can see, the lattice falls into two independent pieces which we want to isolate in the following. Isolating can be done by first copying the lattice, then finding a site in one of the two halfes and finally removing everything which is not connected to that site."
   ]
  },
  {
   "cell_type": "code",
   "execution_count": null,
   "metadata": {},
   "outputs": [],
   "source": [
    "# 1 - deepcopy the lattice\n",
    "lt_1 = deepcopy(lt)\n",
    "\n",
    "# 2 - find site with label 4\n",
    "site_index_4 = findfirst(s->label(s)==4, sites(lt_1))\n",
    "\n",
    "# 3 - remove everything not connected to that site\n",
    "removeDisconnectedSites!(lt_1, site_index_4)\n",
    "\n",
    "\n",
    "# plot the lattice to check\n",
    "plotLattice(lt_1);"
   ]
  },
  {
   "cell_type": "code",
   "execution_count": null,
   "metadata": {},
   "outputs": [],
   "source": [
    "# 1 - deepcopy the lattice\n",
    "lt_2 = deepcopy(lt)\n",
    "\n",
    "# 2 - find site with label 13\n",
    "site_index_13 = findfirst(s->label(s)==13, sites(lt_2))\n",
    "\n",
    "# 3 - remove everything not connected to that site\n",
    "removeDisconnectedSites!(lt_2, site_index_13)\n",
    "\n",
    "\n",
    "# plot the lattice to check\n",
    "plotLattice(lt_2);"
   ]
  }
 ],
 "metadata": {
  "@webio": {
   "lastCommId": "c344022ec33645be8093b5b3ab836bd7",
   "lastKernelId": "32ff217e-382c-43e7-a1a6-7f21b3967783"
  },
  "kernelspec": {
   "display_name": "Julia 1.0.0",
   "language": "julia",
   "name": "julia-1.0"
  },
  "language_info": {
   "file_extension": ".jl",
   "mimetype": "application/julia",
   "name": "julia",
   "version": "1.0.0"
  }
 },
 "nbformat": 4,
 "nbformat_minor": 2
}
